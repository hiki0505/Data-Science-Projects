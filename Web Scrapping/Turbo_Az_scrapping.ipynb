{
 "cells": [
  {
   "cell_type": "code",
   "execution_count": 1,
   "metadata": {},
   "outputs": [],
   "source": [
    "import requests\n",
    "from bs4 import BeautifulSoup\n",
    "from fake_useragent import UserAgent\n",
    "import time\n",
    "import random\n",
    "import csv"
   ]
  },
  {
   "cell_type": "code",
   "execution_count": 2,
   "metadata": {},
   "outputs": [],
   "source": [
    "ua = UserAgent()"
   ]
  },
  {
   "cell_type": "code",
   "execution_count": 3,
   "metadata": {},
   "outputs": [],
   "source": [
    "# ua.random"
   ]
  },
  {
   "cell_type": "code",
   "execution_count": 4,
   "metadata": {},
   "outputs": [],
   "source": [
    "headers = {\n",
    "    'user-agent': ua.random}"
   ]
  },
  {
   "cell_type": "code",
   "execution_count": 5,
   "metadata": {},
   "outputs": [],
   "source": [
    "BASE_URL = 'https://ru.turbo.az/autos'"
   ]
  },
  {
   "cell_type": "code",
   "execution_count": 6,
   "metadata": {},
   "outputs": [],
   "source": [
    "def get_html(url):\n",
    "    r = requests.get(url, headers=headers)\n",
    "    return r.text"
   ]
  },
  {
   "cell_type": "code",
   "execution_count": 7,
   "metadata": {},
   "outputs": [],
   "source": [
    "def get_page_count(html):\n",
    "    soup = BeautifulSoup(html, 'html.parser')\n",
    "    pagination = soup.find(class_=\"pagination\")\n",
    "    string = pagination.find_all('a')[-2].get('href')\n",
    "    num_of_pages = int(''.join(s for s in string if s.isdigit()))\n",
    "    return num_of_pages"
   ]
  },
  {
   "cell_type": "code",
   "execution_count": 8,
   "metadata": {},
   "outputs": [],
   "source": [
    "def parse(html):\n",
    "    soup = BeautifulSoup(html, 'html.parser')\n",
    "    \n",
    "    cars_list = soup.find_all('div', {'class': 'products-i'})\n",
    "    \n",
    "    link_of_cars = []\n",
    "    \n",
    "    for link in cars_list:\n",
    "        car_link = link.a.get('href')\n",
    "        if len(str(car_link)) <= 100:\n",
    "            link_of_cars.append('https://ru.turbo.az' + str(car_link))\n",
    "    \n",
    "    labels_taglist = ['ad_region', 'ad_make_id', 'ad_model', 'ad_reg_year', 'ad_category', 'ad_color', 'ad_engine_volume', 'ad_power', 'ad_fuel_type', 'ad_mileage', 'ad_transmission', 'ad_gear', 'ad_new', 'ad_price']\n",
    "    characteristics = []\n",
    "    \n",
    "    for link in link_of_cars:\n",
    "        r2 = requests.get(link, headers=headers)\n",
    "        soup2 = BeautifulSoup(r2.text, 'html.parser')\n",
    "        properties_list = soup2.find_all('div', {'class': 'product-properties-value'})\n",
    "        labels = soup2.find_all('label')\n",
    "        labels_list = soup2.find_all('label', {'for': labels_taglist })\n",
    "        update_time = soup2.find('div', {'class': 'product-statistics'})\n",
    "#         print(link)\n",
    "#         print(soup2.find(class_=\"product-text\").text)\n",
    "        characteristics.append({\n",
    "        'Время': update_time.find_all('p')[1].text[11:],\n",
    "        'Город': properties_list[0].text,\n",
    "        'Марка':properties_list[1].text,\n",
    "        'Модель':properties_list[2].text,\n",
    "        'Год выпуска':properties_list[3].text,\n",
    "        'Тип кузова':properties_list[4].text,\n",
    "        'Цвет':properties_list[5].text,\n",
    "        'Объем двигателя':properties_list[6].text,\n",
    "        'Мощность':properties_list[7].text,\n",
    "        'Тип топлива':properties_list[8].text,\n",
    "        'Пробег':properties_list[9].text,\n",
    "        'Коробка передач':properties_list[10].text,\n",
    "        'Привод':properties_list[11].text,\n",
    "        'Новая':properties_list[12].text,\n",
    "        'Описание':' '.join([str(elem) for elem in soup2.find(class_=\"product-text\").text.split('\\n')]) if soup2.find(class_=\"product-text\") is not None else 'No description',\n",
    "        'Цена':properties_list[13].text\n",
    "        })\n",
    "        time.sleep(random.randint(1, 3))\n",
    "    \n",
    "    return characteristics"
   ]
  },
  {
   "cell_type": "code",
   "execution_count": 9,
   "metadata": {},
   "outputs": [],
   "source": [
    "# get_page_count(get_html('https://ru.turbo.az/autos'))\n",
    "# get_html(BASE_URL)\n",
    "# page_count = get_page_count(get_html(BASE_URL)\n",
    "# page_count\n",
    "# listik = parse(get_html('https://ru.turbo.az/autos?page=1'))\n",
    "# htmlka = get_html('https://ru.turbo.az/autos/4027711-lada-vaz-2107')\n",
    "# soup = BeautifulSoup(htmlka, 'html.parser')\n",
    "# string = ' '.join([str(elem) for elem in soup.find(class_=\"product-text\").text.split('\\n')]) if soup.find(class_=\"product-text\") is not None else 'got'\n",
    "# string\n",
    "# print(soup.find(class_=\"product-text\"))"
   ]
  },
  {
   "cell_type": "code",
   "execution_count": 10,
   "metadata": {},
   "outputs": [],
   "source": [
    "i = 1\n",
    "flag = True\n",
    "for page in range(1,61):\n",
    "    characteristics_list = []\n",
    "    print('Parsing {} %'.format(int(page/60 * 100)))\n",
    "    characteristics_list.extend(parse(get_html(BASE_URL + '?page={}'.format(page))))\n",
    "    with open('characteristics_cars.csv', 'a', encoding=\"utf-8\") as csvfile:\n",
    "        writer = csv.writer(csvfile)\n",
    "        if flag:\n",
    "            writer.writerow(('Время публикации', 'Автор объявления', 'Название товара', 'Город', 'Марка', 'Новый', 'Доставка', 'Память', 'Описание', 'Цена', 'Контакты для связи', 'Ссылка на объявление'))\n",
    "            flag = False\n",
    "        for characteristic in characteristics_list:\n",
    "            writer.writerow((characteristic['Время публикации'], characteristic['Автор объявления'], characteristic['Название товара'], characteristic['Город'], characteristic['Марка'], characteristic['Новый'] if 'Новый' in characteristic.keys() else '', characteristic['Доставка'] if 'Доставка' in characteristic.keys() else '', characteristic['Память'], characteristic['Описание'], characteristic['Цена'], characteristic['Контакты для связи'], characteristic['Ссылка на объявление']))\n",
    "        \n",
    "    "
   ]
  },
  {
   "cell_type": "code",
   "execution_count": null,
   "metadata": {},
   "outputs": [
    {
     "name": "stdout",
     "output_type": "stream",
     "text": [
      "Number of pages is 1116\n",
      "Parsing 33 %\n",
      "Parsing 66 %\n",
      "Parsing 100 %\n",
      "Sleeping for 10 minutes\n",
      "Parsing 33 %\n",
      "Parsing 66 %\n",
      "Parsing 100 %\n",
      "Sleeping for 10 minutes\n",
      "Parsing 33 %\n",
      "Parsing 66 %\n",
      "Parsing 100 %\n",
      "Sleeping for 10 minutes\n",
      "Parsing 33 %\n",
      "Parsing 66 %\n",
      "Parsing 100 %\n",
      "Sleeping for 10 minutes\n",
      "Parsing 33 %\n",
      "Parsing 66 %\n",
      "Parsing 100 %\n",
      "Sleeping for 10 minutes\n",
      "Parsing 33 %\n",
      "Parsing 66 %\n",
      "Parsing 100 %\n",
      "Sleeping for 10 minutes\n",
      "Parsing 33 %\n",
      "Parsing 66 %\n",
      "Parsing 100 %\n",
      "Sleeping for 10 minutes\n",
      "Parsing 33 %\n",
      "Parsing 66 %\n",
      "Parsing 100 %\n",
      "Sleeping for 10 minutes\n",
      "Parsing 33 %\n",
      "Parsing 66 %\n",
      "Parsing 100 %\n",
      "Sleeping for 10 minutes\n",
      "Parsing 33 %\n",
      "Parsing 66 %\n",
      "Parsing 100 %\n",
      "Sleeping for 10 minutes\n",
      "Parsing 33 %\n",
      "Parsing 66 %\n",
      "Parsing 100 %\n",
      "Sleeping for 10 minutes\n",
      "Parsing 33 %\n",
      "Parsing 66 %\n",
      "Parsing 100 %\n",
      "Sleeping for 10 minutes\n",
      "Parsing 33 %\n",
      "Parsing 66 %\n",
      "Parsing 100 %\n",
      "Sleeping for 10 minutes\n",
      "Parsing 33 %\n",
      "Parsing 66 %\n",
      "Parsing 100 %\n",
      "Sleeping for 10 minutes\n"
     ]
    }
   ],
   "source": [
    "page_count = get_page_count(get_html(BASE_URL))\n",
    "print('Number of pages is {}'.format(page_count))\n",
    "# characteristics_list = []\n",
    "flag = True\n",
    "while True:\n",
    "    for page in range(1, 4):\n",
    "        characteristics_list = []\n",
    "        print('Parsing {} %'.format(int(page/3 * 100)))\n",
    "        characteristics_list.extend(parse(get_html(BASE_URL + '?page={}'.format(page))))\n",
    "#         time.sleep(5)\n",
    "        if page%3 == 0:\n",
    "            with open('characteristics.csv', 'a', encoding=\"utf-8\") as csvfile:\n",
    "                writer = csv.writer(csvfile)\n",
    "                if flag:\n",
    "                    writer.writerow(('Время', 'Город', 'Марка', 'Модель', 'Год выпуска', 'Тип кузова', 'Цвет', 'Объем двигателя', 'Мощность', 'Тип топлива', 'Пробег', 'Коробка передач', 'Привод', 'Новая', 'Описание', 'Цена'))\n",
    "                    flag = False\n",
    "                for characteristic in characteristics_list:\n",
    "                    writer.writerow((characteristic['Время'], characteristic['Город'], characteristic['Марка'], characteristic['Модель'], characteristic['Год выпуска'], characteristic['Тип кузова'], characteristic['Цвет'], characteristic['Объем двигателя'], characteristic['Мощность'], characteristic['Тип топлива'], characteristic['Пробег'], characteristic['Коробка передач'], characteristic['Привод'], characteristic['Новая'], characteristic['Описание'], characteristic['Цена']))\n",
    "    print('Sleeping for 10 minutes')\n",
    "    time.sleep(600)\n",
    "            #         print('Page {} finished'.format(page))\n",
    "\n",
    "# for characteristics in characteristics_list:\n",
    "#     characteristics"
   ]
  },
  {
   "cell_type": "code",
   "execution_count": null,
   "metadata": {},
   "outputs": [],
   "source": [
    "# characteristics_list"
   ]
  },
  {
   "cell_type": "code",
   "execution_count": null,
   "metadata": {},
   "outputs": [],
   "source": [
    "# import csv\n",
    "# def save(characteristics, path):\n",
    "#     with open(path, 'w', encoding=\"utf-8\") as csvfile:\n",
    "#         writer = csv.writer(csvfile)\n",
    "#         writer.writerow(('Город', 'Марка', 'Модель', 'Год выпуска', 'Тип кузова', 'Цвет', 'Объем двигателя', 'Мощность', 'Тип топлива', 'Пробег', 'Коробка передач', 'Привод', 'Новая', 'Описание', 'Цена'))\n",
    "        \n",
    "#         for characteristic in characteristics:\n",
    "#             writer.writerow((characteristic['Город'], characteristic['Марка'], characteristic['Модель'], characteristic['Год выпуска'], characteristic['Тип кузова'], characteristic['Цвет'], characteristic['Объем двигателя'], characteristic['Мощность'], characteristic['Тип топлива'], characteristic['Пробег'], characteristic['Коробка передач'], characteristic['Привод'], characteristic['Новая'], characteristic['Описание'], characteristic['Цена']))"
   ]
  },
  {
   "cell_type": "code",
   "execution_count": null,
   "metadata": {},
   "outputs": [],
   "source": [
    "# save(characteristics_list, 'characteristics.csv')"
   ]
  },
  {
   "cell_type": "code",
   "execution_count": null,
   "metadata": {},
   "outputs": [],
   "source": []
  }
 ],
 "metadata": {
  "kernelspec": {
   "display_name": "Python 3",
   "language": "python",
   "name": "python3"
  },
  "language_info": {
   "codemirror_mode": {
    "name": "ipython",
    "version": 3
   },
   "file_extension": ".py",
   "mimetype": "text/x-python",
   "name": "python",
   "nbconvert_exporter": "python",
   "pygments_lexer": "ipython3",
   "version": "3.7.4"
  }
 },
 "nbformat": 4,
 "nbformat_minor": 2
}
