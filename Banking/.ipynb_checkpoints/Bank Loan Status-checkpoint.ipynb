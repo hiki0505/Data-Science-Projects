{
 "cells": [
  {
   "cell_type": "markdown",
   "metadata": {},
   "source": [
    "# General acquaintance with data"
   ]
  },
  {
   "cell_type": "code",
   "execution_count": 1,
   "metadata": {},
   "outputs": [],
   "source": [
    "# importing necessary modules\n",
    "import pandas as pd\n",
    "import numpy as np\n",
    "import matplotlib.pyplot as plt\n",
    "import seaborn as sns\n",
    "from pandas_profiling import ProfileReport"
   ]
  },
  {
   "cell_type": "code",
   "execution_count": 3,
   "metadata": {},
   "outputs": [
    {
     "data": {
      "text/html": [
       "<div>\n",
       "<style scoped>\n",
       "    .dataframe tbody tr th:only-of-type {\n",
       "        vertical-align: middle;\n",
       "    }\n",
       "\n",
       "    .dataframe tbody tr th {\n",
       "        vertical-align: top;\n",
       "    }\n",
       "\n",
       "    .dataframe thead th {\n",
       "        text-align: right;\n",
       "    }\n",
       "</style>\n",
       "<table border=\"1\" class=\"dataframe\">\n",
       "  <thead>\n",
       "    <tr style=\"text-align: right;\">\n",
       "      <th></th>\n",
       "      <th>Loan ID</th>\n",
       "      <th>Customer ID</th>\n",
       "      <th>Loan Status</th>\n",
       "      <th>Current Loan Amount</th>\n",
       "      <th>Term</th>\n",
       "      <th>Credit Score</th>\n",
       "      <th>Annual Income</th>\n",
       "      <th>Years in current job</th>\n",
       "      <th>Home Ownership</th>\n",
       "      <th>Purpose</th>\n",
       "      <th>Monthly Debt</th>\n",
       "      <th>Years of Credit History</th>\n",
       "      <th>Months since last delinquent</th>\n",
       "      <th>Number of Open Accounts</th>\n",
       "      <th>Number of Credit Problems</th>\n",
       "      <th>Current Credit Balance</th>\n",
       "      <th>Maximum Open Credit</th>\n",
       "      <th>Bankruptcies</th>\n",
       "      <th>Tax Liens</th>\n",
       "    </tr>\n",
       "  </thead>\n",
       "  <tbody>\n",
       "    <tr>\n",
       "      <th>0</th>\n",
       "      <td>14dd8831-6af5-400b-83ec-68e61888a048</td>\n",
       "      <td>981165ec-3274-42f5-a3b4-d104041a9ca9</td>\n",
       "      <td>Fully Paid</td>\n",
       "      <td>445412.0</td>\n",
       "      <td>Short Term</td>\n",
       "      <td>709.0</td>\n",
       "      <td>1167493.0</td>\n",
       "      <td>8 years</td>\n",
       "      <td>Home Mortgage</td>\n",
       "      <td>Home Improvements</td>\n",
       "      <td>5214.74</td>\n",
       "      <td>17.2</td>\n",
       "      <td>NaN</td>\n",
       "      <td>6.0</td>\n",
       "      <td>1.0</td>\n",
       "      <td>228190.0</td>\n",
       "      <td>416746.0</td>\n",
       "      <td>1.0</td>\n",
       "      <td>0.0</td>\n",
       "    </tr>\n",
       "    <tr>\n",
       "      <th>1</th>\n",
       "      <td>4771cc26-131a-45db-b5aa-537ea4ba5342</td>\n",
       "      <td>2de017a3-2e01-49cb-a581-08169e83be29</td>\n",
       "      <td>Fully Paid</td>\n",
       "      <td>262328.0</td>\n",
       "      <td>Short Term</td>\n",
       "      <td>NaN</td>\n",
       "      <td>NaN</td>\n",
       "      <td>10+ years</td>\n",
       "      <td>Home Mortgage</td>\n",
       "      <td>Debt Consolidation</td>\n",
       "      <td>33295.98</td>\n",
       "      <td>21.1</td>\n",
       "      <td>8.0</td>\n",
       "      <td>35.0</td>\n",
       "      <td>0.0</td>\n",
       "      <td>229976.0</td>\n",
       "      <td>850784.0</td>\n",
       "      <td>0.0</td>\n",
       "      <td>0.0</td>\n",
       "    </tr>\n",
       "    <tr>\n",
       "      <th>2</th>\n",
       "      <td>4eed4e6a-aa2f-4c91-8651-ce984ee8fb26</td>\n",
       "      <td>5efb2b2b-bf11-4dfd-a572-3761a2694725</td>\n",
       "      <td>Fully Paid</td>\n",
       "      <td>99999999.0</td>\n",
       "      <td>Short Term</td>\n",
       "      <td>741.0</td>\n",
       "      <td>2231892.0</td>\n",
       "      <td>8 years</td>\n",
       "      <td>Own Home</td>\n",
       "      <td>Debt Consolidation</td>\n",
       "      <td>29200.53</td>\n",
       "      <td>14.9</td>\n",
       "      <td>29.0</td>\n",
       "      <td>18.0</td>\n",
       "      <td>1.0</td>\n",
       "      <td>297996.0</td>\n",
       "      <td>750090.0</td>\n",
       "      <td>0.0</td>\n",
       "      <td>0.0</td>\n",
       "    </tr>\n",
       "    <tr>\n",
       "      <th>3</th>\n",
       "      <td>77598f7b-32e7-4e3b-a6e5-06ba0d98fe8a</td>\n",
       "      <td>e777faab-98ae-45af-9a86-7ce5b33b1011</td>\n",
       "      <td>Fully Paid</td>\n",
       "      <td>347666.0</td>\n",
       "      <td>Long Term</td>\n",
       "      <td>721.0</td>\n",
       "      <td>806949.0</td>\n",
       "      <td>3 years</td>\n",
       "      <td>Own Home</td>\n",
       "      <td>Debt Consolidation</td>\n",
       "      <td>8741.90</td>\n",
       "      <td>12.0</td>\n",
       "      <td>NaN</td>\n",
       "      <td>9.0</td>\n",
       "      <td>0.0</td>\n",
       "      <td>256329.0</td>\n",
       "      <td>386958.0</td>\n",
       "      <td>0.0</td>\n",
       "      <td>0.0</td>\n",
       "    </tr>\n",
       "    <tr>\n",
       "      <th>4</th>\n",
       "      <td>d4062e70-befa-4995-8643-a0de73938182</td>\n",
       "      <td>81536ad9-5ccf-4eb8-befb-47a4d608658e</td>\n",
       "      <td>Fully Paid</td>\n",
       "      <td>176220.0</td>\n",
       "      <td>Short Term</td>\n",
       "      <td>NaN</td>\n",
       "      <td>NaN</td>\n",
       "      <td>5 years</td>\n",
       "      <td>Rent</td>\n",
       "      <td>Debt Consolidation</td>\n",
       "      <td>20639.70</td>\n",
       "      <td>6.1</td>\n",
       "      <td>NaN</td>\n",
       "      <td>15.0</td>\n",
       "      <td>0.0</td>\n",
       "      <td>253460.0</td>\n",
       "      <td>427174.0</td>\n",
       "      <td>0.0</td>\n",
       "      <td>0.0</td>\n",
       "    </tr>\n",
       "  </tbody>\n",
       "</table>\n",
       "</div>"
      ],
      "text/plain": [
       "                                Loan ID                           Customer ID  \\\n",
       "0  14dd8831-6af5-400b-83ec-68e61888a048  981165ec-3274-42f5-a3b4-d104041a9ca9   \n",
       "1  4771cc26-131a-45db-b5aa-537ea4ba5342  2de017a3-2e01-49cb-a581-08169e83be29   \n",
       "2  4eed4e6a-aa2f-4c91-8651-ce984ee8fb26  5efb2b2b-bf11-4dfd-a572-3761a2694725   \n",
       "3  77598f7b-32e7-4e3b-a6e5-06ba0d98fe8a  e777faab-98ae-45af-9a86-7ce5b33b1011   \n",
       "4  d4062e70-befa-4995-8643-a0de73938182  81536ad9-5ccf-4eb8-befb-47a4d608658e   \n",
       "\n",
       "  Loan Status  Current Loan Amount        Term  Credit Score  Annual Income  \\\n",
       "0  Fully Paid             445412.0  Short Term         709.0      1167493.0   \n",
       "1  Fully Paid             262328.0  Short Term           NaN            NaN   \n",
       "2  Fully Paid           99999999.0  Short Term         741.0      2231892.0   \n",
       "3  Fully Paid             347666.0   Long Term         721.0       806949.0   \n",
       "4  Fully Paid             176220.0  Short Term           NaN            NaN   \n",
       "\n",
       "  Years in current job Home Ownership             Purpose  Monthly Debt  \\\n",
       "0              8 years  Home Mortgage   Home Improvements       5214.74   \n",
       "1            10+ years  Home Mortgage  Debt Consolidation      33295.98   \n",
       "2              8 years       Own Home  Debt Consolidation      29200.53   \n",
       "3              3 years       Own Home  Debt Consolidation       8741.90   \n",
       "4              5 years           Rent  Debt Consolidation      20639.70   \n",
       "\n",
       "   Years of Credit History  Months since last delinquent  \\\n",
       "0                     17.2                           NaN   \n",
       "1                     21.1                           8.0   \n",
       "2                     14.9                          29.0   \n",
       "3                     12.0                           NaN   \n",
       "4                      6.1                           NaN   \n",
       "\n",
       "   Number of Open Accounts  Number of Credit Problems  Current Credit Balance  \\\n",
       "0                      6.0                        1.0                228190.0   \n",
       "1                     35.0                        0.0                229976.0   \n",
       "2                     18.0                        1.0                297996.0   \n",
       "3                      9.0                        0.0                256329.0   \n",
       "4                     15.0                        0.0                253460.0   \n",
       "\n",
       "   Maximum Open Credit  Bankruptcies  Tax Liens  \n",
       "0             416746.0           1.0        0.0  \n",
       "1             850784.0           0.0        0.0  \n",
       "2             750090.0           0.0        0.0  \n",
       "3             386958.0           0.0        0.0  \n",
       "4             427174.0           0.0        0.0  "
      ]
     },
     "execution_count": 3,
     "metadata": {},
     "output_type": "execute_result"
    }
   ],
   "source": [
    "# reading data\n",
    "df=pd.read_csv('credit_train.csv')\n",
    "df.head()"
   ]
  },
  {
   "cell_type": "code",
   "execution_count": 4,
   "metadata": {},
   "outputs": [
    {
     "data": {
      "text/plain": [
       "(100514, 19)"
      ]
     },
     "execution_count": 4,
     "metadata": {},
     "output_type": "execute_result"
    }
   ],
   "source": [
    "# shape of dataset (№ of rows and columns)   \n",
    "df.shape"
   ]
  },
  {
   "cell_type": "code",
   "execution_count": 5,
   "metadata": {},
   "outputs": [
    {
     "data": {
      "text/html": [
       "<div>\n",
       "<style scoped>\n",
       "    .dataframe tbody tr th:only-of-type {\n",
       "        vertical-align: middle;\n",
       "    }\n",
       "\n",
       "    .dataframe tbody tr th {\n",
       "        vertical-align: top;\n",
       "    }\n",
       "\n",
       "    .dataframe thead th {\n",
       "        text-align: right;\n",
       "    }\n",
       "</style>\n",
       "<table border=\"1\" class=\"dataframe\">\n",
       "  <thead>\n",
       "    <tr style=\"text-align: right;\">\n",
       "      <th></th>\n",
       "      <th>Loan ID</th>\n",
       "      <th>Customer ID</th>\n",
       "      <th>Current Loan Amount</th>\n",
       "      <th>Term</th>\n",
       "      <th>Credit Score</th>\n",
       "      <th>Annual Income</th>\n",
       "      <th>Years in current job</th>\n",
       "      <th>Home Ownership</th>\n",
       "      <th>Purpose</th>\n",
       "      <th>Monthly Debt</th>\n",
       "      <th>Years of Credit History</th>\n",
       "      <th>Months since last delinquent</th>\n",
       "      <th>Number of Open Accounts</th>\n",
       "      <th>Number of Credit Problems</th>\n",
       "      <th>Current Credit Balance</th>\n",
       "      <th>Maximum Open Credit</th>\n",
       "      <th>Bankruptcies</th>\n",
       "      <th>Tax Liens</th>\n",
       "    </tr>\n",
       "  </thead>\n",
       "  <tbody>\n",
       "    <tr>\n",
       "      <th>0</th>\n",
       "      <td>f738779f-c726-40dc-92cf-689d73af533d</td>\n",
       "      <td>ded0b3c3-6bf4-4091-8726-47039f2c1b90</td>\n",
       "      <td>611314.0</td>\n",
       "      <td>Short Term</td>\n",
       "      <td>747.0</td>\n",
       "      <td>2074116.0</td>\n",
       "      <td>10+ years</td>\n",
       "      <td>Home Mortgage</td>\n",
       "      <td>Debt Consolidation</td>\n",
       "      <td>42000.83</td>\n",
       "      <td>21.8</td>\n",
       "      <td>NaN</td>\n",
       "      <td>9.0</td>\n",
       "      <td>0.0</td>\n",
       "      <td>621908.0</td>\n",
       "      <td>1058970.0</td>\n",
       "      <td>0.0</td>\n",
       "      <td>0.0</td>\n",
       "    </tr>\n",
       "    <tr>\n",
       "      <th>1</th>\n",
       "      <td>6dcc0947-164d-476c-a1de-3ae7283dde0a</td>\n",
       "      <td>1630e6e3-34e3-461a-8fda-09297d3140c8</td>\n",
       "      <td>266662.0</td>\n",
       "      <td>Short Term</td>\n",
       "      <td>734.0</td>\n",
       "      <td>1919190.0</td>\n",
       "      <td>10+ years</td>\n",
       "      <td>Home Mortgage</td>\n",
       "      <td>Debt Consolidation</td>\n",
       "      <td>36624.40</td>\n",
       "      <td>19.4</td>\n",
       "      <td>NaN</td>\n",
       "      <td>11.0</td>\n",
       "      <td>0.0</td>\n",
       "      <td>679573.0</td>\n",
       "      <td>904442.0</td>\n",
       "      <td>0.0</td>\n",
       "      <td>0.0</td>\n",
       "    </tr>\n",
       "    <tr>\n",
       "      <th>2</th>\n",
       "      <td>f7744d01-894b-49c3-8777-fc6431a2cff1</td>\n",
       "      <td>2c60938b-ad2b-4702-804d-eeca43949c52</td>\n",
       "      <td>153494.0</td>\n",
       "      <td>Short Term</td>\n",
       "      <td>709.0</td>\n",
       "      <td>871112.0</td>\n",
       "      <td>2 years</td>\n",
       "      <td>Rent</td>\n",
       "      <td>Debt Consolidation</td>\n",
       "      <td>8391.73</td>\n",
       "      <td>12.5</td>\n",
       "      <td>10.0</td>\n",
       "      <td>10.0</td>\n",
       "      <td>0.0</td>\n",
       "      <td>38532.0</td>\n",
       "      <td>388036.0</td>\n",
       "      <td>0.0</td>\n",
       "      <td>0.0</td>\n",
       "    </tr>\n",
       "    <tr>\n",
       "      <th>3</th>\n",
       "      <td>83721ffb-b99a-4a0f-aea5-ef472a138b41</td>\n",
       "      <td>12116614-2f3c-4d16-ad34-d92883718806</td>\n",
       "      <td>176242.0</td>\n",
       "      <td>Short Term</td>\n",
       "      <td>727.0</td>\n",
       "      <td>780083.0</td>\n",
       "      <td>10+ years</td>\n",
       "      <td>Rent</td>\n",
       "      <td>Debt Consolidation</td>\n",
       "      <td>16771.87</td>\n",
       "      <td>16.5</td>\n",
       "      <td>27.0</td>\n",
       "      <td>16.0</td>\n",
       "      <td>1.0</td>\n",
       "      <td>156940.0</td>\n",
       "      <td>531322.0</td>\n",
       "      <td>1.0</td>\n",
       "      <td>0.0</td>\n",
       "    </tr>\n",
       "    <tr>\n",
       "      <th>4</th>\n",
       "      <td>08f3789f-5714-4b10-929d-e1527ab5e5a3</td>\n",
       "      <td>39888105-fd5f-4023-860a-30a3e6f5ccb7</td>\n",
       "      <td>321992.0</td>\n",
       "      <td>Short Term</td>\n",
       "      <td>744.0</td>\n",
       "      <td>1761148.0</td>\n",
       "      <td>10+ years</td>\n",
       "      <td>Home Mortgage</td>\n",
       "      <td>Debt Consolidation</td>\n",
       "      <td>39478.77</td>\n",
       "      <td>26.0</td>\n",
       "      <td>44.0</td>\n",
       "      <td>14.0</td>\n",
       "      <td>0.0</td>\n",
       "      <td>359765.0</td>\n",
       "      <td>468072.0</td>\n",
       "      <td>0.0</td>\n",
       "      <td>0.0</td>\n",
       "    </tr>\n",
       "  </tbody>\n",
       "</table>\n",
       "</div>"
      ],
      "text/plain": [
       "                                Loan ID                           Customer ID  \\\n",
       "0  f738779f-c726-40dc-92cf-689d73af533d  ded0b3c3-6bf4-4091-8726-47039f2c1b90   \n",
       "1  6dcc0947-164d-476c-a1de-3ae7283dde0a  1630e6e3-34e3-461a-8fda-09297d3140c8   \n",
       "2  f7744d01-894b-49c3-8777-fc6431a2cff1  2c60938b-ad2b-4702-804d-eeca43949c52   \n",
       "3  83721ffb-b99a-4a0f-aea5-ef472a138b41  12116614-2f3c-4d16-ad34-d92883718806   \n",
       "4  08f3789f-5714-4b10-929d-e1527ab5e5a3  39888105-fd5f-4023-860a-30a3e6f5ccb7   \n",
       "\n",
       "   Current Loan Amount        Term  Credit Score  Annual Income  \\\n",
       "0             611314.0  Short Term         747.0      2074116.0   \n",
       "1             266662.0  Short Term         734.0      1919190.0   \n",
       "2             153494.0  Short Term         709.0       871112.0   \n",
       "3             176242.0  Short Term         727.0       780083.0   \n",
       "4             321992.0  Short Term         744.0      1761148.0   \n",
       "\n",
       "  Years in current job Home Ownership             Purpose  Monthly Debt  \\\n",
       "0            10+ years  Home Mortgage  Debt Consolidation      42000.83   \n",
       "1            10+ years  Home Mortgage  Debt Consolidation      36624.40   \n",
       "2              2 years           Rent  Debt Consolidation       8391.73   \n",
       "3            10+ years           Rent  Debt Consolidation      16771.87   \n",
       "4            10+ years  Home Mortgage  Debt Consolidation      39478.77   \n",
       "\n",
       "   Years of Credit History  Months since last delinquent  \\\n",
       "0                     21.8                           NaN   \n",
       "1                     19.4                           NaN   \n",
       "2                     12.5                          10.0   \n",
       "3                     16.5                          27.0   \n",
       "4                     26.0                          44.0   \n",
       "\n",
       "   Number of Open Accounts  Number of Credit Problems  Current Credit Balance  \\\n",
       "0                      9.0                        0.0                621908.0   \n",
       "1                     11.0                        0.0                679573.0   \n",
       "2                     10.0                        0.0                 38532.0   \n",
       "3                     16.0                        1.0                156940.0   \n",
       "4                     14.0                        0.0                359765.0   \n",
       "\n",
       "   Maximum Open Credit  Bankruptcies  Tax Liens  \n",
       "0            1058970.0           0.0        0.0  \n",
       "1             904442.0           0.0        0.0  \n",
       "2             388036.0           0.0        0.0  \n",
       "3             531322.0           1.0        0.0  \n",
       "4             468072.0           0.0        0.0  "
      ]
     },
     "execution_count": 5,
     "metadata": {},
     "output_type": "execute_result"
    }
   ],
   "source": [
    "# reading test data\n",
    "df_test=pd.read_csv('credit_test.csv')\n",
    "df_test.head()"
   ]
  },
  {
   "cell_type": "code",
   "execution_count": 6,
   "metadata": {},
   "outputs": [
    {
     "data": {
      "text/plain": [
       "(10353, 18)"
      ]
     },
     "execution_count": 6,
     "metadata": {},
     "output_type": "execute_result"
    }
   ],
   "source": [
    "df_test.shape"
   ]
  },
  {
   "cell_type": "code",
   "execution_count": 7,
   "metadata": {},
   "outputs": [
    {
     "name": "stdout",
     "output_type": "stream",
     "text": [
      "<class 'pandas.core.frame.DataFrame'>\n",
      "RangeIndex: 100514 entries, 0 to 100513\n",
      "Data columns (total 19 columns):\n",
      "Loan ID                         100000 non-null object\n",
      "Customer ID                     100000 non-null object\n",
      "Loan Status                     100000 non-null object\n",
      "Current Loan Amount             100000 non-null float64\n",
      "Term                            100000 non-null object\n",
      "Credit Score                    80846 non-null float64\n",
      "Annual Income                   80846 non-null float64\n",
      "Years in current job            95778 non-null object\n",
      "Home Ownership                  100000 non-null object\n",
      "Purpose                         100000 non-null object\n",
      "Monthly Debt                    100000 non-null float64\n",
      "Years of Credit History         100000 non-null float64\n",
      "Months since last delinquent    46859 non-null float64\n",
      "Number of Open Accounts         100000 non-null float64\n",
      "Number of Credit Problems       100000 non-null float64\n",
      "Current Credit Balance          100000 non-null float64\n",
      "Maximum Open Credit             99998 non-null float64\n",
      "Bankruptcies                    99796 non-null float64\n",
      "Tax Liens                       99990 non-null float64\n",
      "dtypes: float64(12), object(7)\n",
      "memory usage: 14.6+ MB\n"
     ]
    }
   ],
   "source": [
    "# Information about dataset\n",
    "df.info()"
   ]
  },
  {
   "cell_type": "code",
   "execution_count": 8,
   "metadata": {},
   "outputs": [
    {
     "name": "stdout",
     "output_type": "stream",
     "text": [
      "<class 'pandas.core.frame.DataFrame'>\n",
      "RangeIndex: 10353 entries, 0 to 10352\n",
      "Data columns (total 18 columns):\n",
      "Loan ID                         10000 non-null object\n",
      "Customer ID                     10000 non-null object\n",
      "Current Loan Amount             10000 non-null float64\n",
      "Term                            10000 non-null object\n",
      "Credit Score                    8019 non-null float64\n",
      "Annual Income                   8019 non-null float64\n",
      "Years in current job            9573 non-null object\n",
      "Home Ownership                  10000 non-null object\n",
      "Purpose                         10000 non-null object\n",
      "Monthly Debt                    10000 non-null float64\n",
      "Years of Credit History         10000 non-null float64\n",
      "Months since last delinquent    4694 non-null float64\n",
      "Number of Open Accounts         10000 non-null float64\n",
      "Number of Credit Problems       10000 non-null float64\n",
      "Current Credit Balance          10000 non-null float64\n",
      "Maximum Open Credit             10000 non-null float64\n",
      "Bankruptcies                    9978 non-null float64\n",
      "Tax Liens                       9999 non-null float64\n",
      "dtypes: float64(12), object(6)\n",
      "memory usage: 1.4+ MB\n"
     ]
    }
   ],
   "source": [
    "df_test.info()"
   ]
  },
  {
   "cell_type": "code",
   "execution_count": 9,
   "metadata": {},
   "outputs": [
    {
     "data": {
      "text/plain": [
       "Index(['Loan ID', 'Customer ID', 'Loan Status', 'Term', 'Years in current job',\n",
       "       'Home Ownership', 'Purpose'],\n",
       "      dtype='object')"
      ]
     },
     "execution_count": 9,
     "metadata": {},
     "output_type": "execute_result"
    }
   ],
   "source": [
    "# non-numerical (categorical) columns\n",
    "category_col=df.select_dtypes(include=['object']).columns\n",
    "category_col"
   ]
  },
  {
   "cell_type": "code",
   "execution_count": 10,
   "metadata": {},
   "outputs": [
    {
     "data": {
      "text/plain": [
       "Index(['Current Loan Amount', 'Credit Score', 'Annual Income', 'Monthly Debt',\n",
       "       'Years of Credit History', 'Months since last delinquent',\n",
       "       'Number of Open Accounts', 'Number of Credit Problems',\n",
       "       'Current Credit Balance', 'Maximum Open Credit', 'Bankruptcies',\n",
       "       'Tax Liens'],\n",
       "      dtype='object')"
      ]
     },
     "execution_count": 10,
     "metadata": {},
     "output_type": "execute_result"
    }
   ],
   "source": [
    "# numerical columns\n",
    "num_col=df.select_dtypes(include=['float64','int64']).columns\n",
    "num_col"
   ]
  },
  {
   "cell_type": "code",
   "execution_count": 11,
   "metadata": {},
   "outputs": [
    {
     "data": {
      "text/html": [
       "<div>\n",
       "<style scoped>\n",
       "    .dataframe tbody tr th:only-of-type {\n",
       "        vertical-align: middle;\n",
       "    }\n",
       "\n",
       "    .dataframe tbody tr th {\n",
       "        vertical-align: top;\n",
       "    }\n",
       "\n",
       "    .dataframe thead th {\n",
       "        text-align: right;\n",
       "    }\n",
       "</style>\n",
       "<table border=\"1\" class=\"dataframe\">\n",
       "  <thead>\n",
       "    <tr style=\"text-align: right;\">\n",
       "      <th></th>\n",
       "      <th>Current Loan Amount</th>\n",
       "      <th>Credit Score</th>\n",
       "      <th>Annual Income</th>\n",
       "      <th>Monthly Debt</th>\n",
       "      <th>Years of Credit History</th>\n",
       "      <th>Months since last delinquent</th>\n",
       "      <th>Number of Open Accounts</th>\n",
       "      <th>Number of Credit Problems</th>\n",
       "      <th>Current Credit Balance</th>\n",
       "      <th>Maximum Open Credit</th>\n",
       "      <th>Bankruptcies</th>\n",
       "      <th>Tax Liens</th>\n",
       "    </tr>\n",
       "  </thead>\n",
       "  <tbody>\n",
       "    <tr>\n",
       "      <th>count</th>\n",
       "      <td>1.000000e+05</td>\n",
       "      <td>80846.000000</td>\n",
       "      <td>8.084600e+04</td>\n",
       "      <td>100000.000000</td>\n",
       "      <td>100000.000000</td>\n",
       "      <td>46859.000000</td>\n",
       "      <td>100000.00000</td>\n",
       "      <td>100000.000000</td>\n",
       "      <td>1.000000e+05</td>\n",
       "      <td>9.999800e+04</td>\n",
       "      <td>99796.000000</td>\n",
       "      <td>99990.000000</td>\n",
       "    </tr>\n",
       "    <tr>\n",
       "      <th>mean</th>\n",
       "      <td>1.176045e+07</td>\n",
       "      <td>1076.456089</td>\n",
       "      <td>1.378277e+06</td>\n",
       "      <td>18472.412336</td>\n",
       "      <td>18.199141</td>\n",
       "      <td>34.901321</td>\n",
       "      <td>11.12853</td>\n",
       "      <td>0.168310</td>\n",
       "      <td>2.946374e+05</td>\n",
       "      <td>7.607984e+05</td>\n",
       "      <td>0.117740</td>\n",
       "      <td>0.029313</td>\n",
       "    </tr>\n",
       "    <tr>\n",
       "      <th>std</th>\n",
       "      <td>3.178394e+07</td>\n",
       "      <td>1475.403791</td>\n",
       "      <td>1.081360e+06</td>\n",
       "      <td>12174.992609</td>\n",
       "      <td>7.015324</td>\n",
       "      <td>21.997829</td>\n",
       "      <td>5.00987</td>\n",
       "      <td>0.482705</td>\n",
       "      <td>3.761709e+05</td>\n",
       "      <td>8.384503e+06</td>\n",
       "      <td>0.351424</td>\n",
       "      <td>0.258182</td>\n",
       "    </tr>\n",
       "    <tr>\n",
       "      <th>min</th>\n",
       "      <td>1.080200e+04</td>\n",
       "      <td>585.000000</td>\n",
       "      <td>7.662700e+04</td>\n",
       "      <td>0.000000</td>\n",
       "      <td>3.600000</td>\n",
       "      <td>0.000000</td>\n",
       "      <td>0.00000</td>\n",
       "      <td>0.000000</td>\n",
       "      <td>0.000000e+00</td>\n",
       "      <td>0.000000e+00</td>\n",
       "      <td>0.000000</td>\n",
       "      <td>0.000000</td>\n",
       "    </tr>\n",
       "    <tr>\n",
       "      <th>25%</th>\n",
       "      <td>1.796520e+05</td>\n",
       "      <td>705.000000</td>\n",
       "      <td>8.488440e+05</td>\n",
       "      <td>10214.162500</td>\n",
       "      <td>13.500000</td>\n",
       "      <td>16.000000</td>\n",
       "      <td>8.00000</td>\n",
       "      <td>0.000000</td>\n",
       "      <td>1.126700e+05</td>\n",
       "      <td>2.734380e+05</td>\n",
       "      <td>0.000000</td>\n",
       "      <td>0.000000</td>\n",
       "    </tr>\n",
       "    <tr>\n",
       "      <th>50%</th>\n",
       "      <td>3.122460e+05</td>\n",
       "      <td>724.000000</td>\n",
       "      <td>1.174162e+06</td>\n",
       "      <td>16220.300000</td>\n",
       "      <td>16.900000</td>\n",
       "      <td>32.000000</td>\n",
       "      <td>10.00000</td>\n",
       "      <td>0.000000</td>\n",
       "      <td>2.098170e+05</td>\n",
       "      <td>4.678740e+05</td>\n",
       "      <td>0.000000</td>\n",
       "      <td>0.000000</td>\n",
       "    </tr>\n",
       "    <tr>\n",
       "      <th>75%</th>\n",
       "      <td>5.249420e+05</td>\n",
       "      <td>741.000000</td>\n",
       "      <td>1.650663e+06</td>\n",
       "      <td>24012.057500</td>\n",
       "      <td>21.700000</td>\n",
       "      <td>51.000000</td>\n",
       "      <td>14.00000</td>\n",
       "      <td>0.000000</td>\n",
       "      <td>3.679588e+05</td>\n",
       "      <td>7.829580e+05</td>\n",
       "      <td>0.000000</td>\n",
       "      <td>0.000000</td>\n",
       "    </tr>\n",
       "    <tr>\n",
       "      <th>max</th>\n",
       "      <td>1.000000e+08</td>\n",
       "      <td>7510.000000</td>\n",
       "      <td>1.655574e+08</td>\n",
       "      <td>435843.280000</td>\n",
       "      <td>70.500000</td>\n",
       "      <td>176.000000</td>\n",
       "      <td>76.00000</td>\n",
       "      <td>15.000000</td>\n",
       "      <td>3.287897e+07</td>\n",
       "      <td>1.539738e+09</td>\n",
       "      <td>7.000000</td>\n",
       "      <td>15.000000</td>\n",
       "    </tr>\n",
       "  </tbody>\n",
       "</table>\n",
       "</div>"
      ],
      "text/plain": [
       "       Current Loan Amount  Credit Score  Annual Income   Monthly Debt  \\\n",
       "count         1.000000e+05  80846.000000   8.084600e+04  100000.000000   \n",
       "mean          1.176045e+07   1076.456089   1.378277e+06   18472.412336   \n",
       "std           3.178394e+07   1475.403791   1.081360e+06   12174.992609   \n",
       "min           1.080200e+04    585.000000   7.662700e+04       0.000000   \n",
       "25%           1.796520e+05    705.000000   8.488440e+05   10214.162500   \n",
       "50%           3.122460e+05    724.000000   1.174162e+06   16220.300000   \n",
       "75%           5.249420e+05    741.000000   1.650663e+06   24012.057500   \n",
       "max           1.000000e+08   7510.000000   1.655574e+08  435843.280000   \n",
       "\n",
       "       Years of Credit History  Months since last delinquent  \\\n",
       "count            100000.000000                  46859.000000   \n",
       "mean                 18.199141                     34.901321   \n",
       "std                   7.015324                     21.997829   \n",
       "min                   3.600000                      0.000000   \n",
       "25%                  13.500000                     16.000000   \n",
       "50%                  16.900000                     32.000000   \n",
       "75%                  21.700000                     51.000000   \n",
       "max                  70.500000                    176.000000   \n",
       "\n",
       "       Number of Open Accounts  Number of Credit Problems  \\\n",
       "count             100000.00000              100000.000000   \n",
       "mean                  11.12853                   0.168310   \n",
       "std                    5.00987                   0.482705   \n",
       "min                    0.00000                   0.000000   \n",
       "25%                    8.00000                   0.000000   \n",
       "50%                   10.00000                   0.000000   \n",
       "75%                   14.00000                   0.000000   \n",
       "max                   76.00000                  15.000000   \n",
       "\n",
       "       Current Credit Balance  Maximum Open Credit  Bankruptcies     Tax Liens  \n",
       "count            1.000000e+05         9.999800e+04  99796.000000  99990.000000  \n",
       "mean             2.946374e+05         7.607984e+05      0.117740      0.029313  \n",
       "std              3.761709e+05         8.384503e+06      0.351424      0.258182  \n",
       "min              0.000000e+00         0.000000e+00      0.000000      0.000000  \n",
       "25%              1.126700e+05         2.734380e+05      0.000000      0.000000  \n",
       "50%              2.098170e+05         4.678740e+05      0.000000      0.000000  \n",
       "75%              3.679588e+05         7.829580e+05      0.000000      0.000000  \n",
       "max              3.287897e+07         1.539738e+09      7.000000     15.000000  "
      ]
     },
     "execution_count": 11,
     "metadata": {},
     "output_type": "execute_result"
    }
   ],
   "source": [
    "# statistical description of dataset\n",
    "df.describe()"
   ]
  },
  {
   "cell_type": "code",
   "execution_count": 12,
   "metadata": {},
   "outputs": [
    {
     "data": {
      "text/plain": [
       "Months since last delinquent    53655\n",
       "Credit Score                    19668\n",
       "Annual Income                   19668\n",
       "Years in current job             4736\n",
       "Bankruptcies                      718\n",
       "Tax Liens                         524\n",
       "Maximum Open Credit               516\n",
       "Customer ID                       514\n",
       "Loan Status                       514\n",
       "Current Loan Amount               514\n",
       "Term                              514\n",
       "Purpose                           514\n",
       "Home Ownership                    514\n",
       "Monthly Debt                      514\n",
       "Years of Credit History           514\n",
       "Number of Open Accounts           514\n",
       "Number of Credit Problems         514\n",
       "Current Credit Balance            514\n",
       "Loan ID                           514\n",
       "dtype: int64"
      ]
     },
     "execution_count": 12,
     "metadata": {},
     "output_type": "execute_result"
    }
   ],
   "source": [
    "# checking for null values\n",
    "df.isnull().sum().sort_values(ascending=False)"
   ]
  },
  {
   "cell_type": "code",
   "execution_count": 13,
   "metadata": {},
   "outputs": [],
   "source": [
    "# df = train.dropna()"
   ]
  },
  {
   "cell_type": "code",
   "execution_count": 14,
   "metadata": {},
   "outputs": [],
   "source": [
    "# from sklearn.preprocessing import Imputer\n",
    "# imp = Imputer(missing_values='NaN', strategy='most_frequent', axis=0)\n",
    "# imp.fit(train)\n",
    "# train = imp.transform(train)"
   ]
  },
  {
   "cell_type": "markdown",
   "metadata": {},
   "source": [
    "# Cleaning"
   ]
  },
  {
   "cell_type": "code",
   "execution_count": 15,
   "metadata": {},
   "outputs": [
    {
     "data": {
      "text/plain": [
       "True"
      ]
     },
     "execution_count": 15,
     "metadata": {},
     "output_type": "execute_result"
    }
   ],
   "source": [
    "# checking for any duplicates\n",
    "df.duplicated().any()"
   ]
  },
  {
   "cell_type": "code",
   "execution_count": 16,
   "metadata": {},
   "outputs": [
    {
     "data": {
      "text/plain": [
       "False    89786\n",
       "True     10728\n",
       "dtype: int64"
      ]
     },
     "execution_count": 16,
     "metadata": {},
     "output_type": "execute_result"
    }
   ],
   "source": [
    "# duplicate values count \n",
    "df.duplicated().value_counts()"
   ]
  },
  {
   "cell_type": "code",
   "execution_count": 17,
   "metadata": {},
   "outputs": [],
   "source": [
    "# duplicates removal\n",
    "df_without_dupl = df.drop_duplicates()\n",
    "df_without_dupl.sample(5)\n",
    "\n",
    "df_test_without_dupl = df_test.drop_duplicates()"
   ]
  },
  {
   "cell_type": "code",
   "execution_count": 18,
   "metadata": {},
   "outputs": [
    {
     "data": {
      "text/html": [
       "<div>\n",
       "<style scoped>\n",
       "    .dataframe tbody tr th:only-of-type {\n",
       "        vertical-align: middle;\n",
       "    }\n",
       "\n",
       "    .dataframe tbody tr th {\n",
       "        vertical-align: top;\n",
       "    }\n",
       "\n",
       "    .dataframe thead th {\n",
       "        text-align: right;\n",
       "    }\n",
       "</style>\n",
       "<table border=\"1\" class=\"dataframe\">\n",
       "  <thead>\n",
       "    <tr style=\"text-align: right;\">\n",
       "      <th></th>\n",
       "      <th>Loan ID</th>\n",
       "      <th>Customer ID</th>\n",
       "      <th>Current Loan Amount</th>\n",
       "      <th>Term</th>\n",
       "      <th>Credit Score</th>\n",
       "      <th>Annual Income</th>\n",
       "      <th>Years in current job</th>\n",
       "      <th>Home Ownership</th>\n",
       "      <th>Purpose</th>\n",
       "      <th>Monthly Debt</th>\n",
       "      <th>Years of Credit History</th>\n",
       "      <th>Months since last delinquent</th>\n",
       "      <th>Number of Open Accounts</th>\n",
       "      <th>Number of Credit Problems</th>\n",
       "      <th>Current Credit Balance</th>\n",
       "      <th>Maximum Open Credit</th>\n",
       "      <th>Bankruptcies</th>\n",
       "      <th>Tax Liens</th>\n",
       "    </tr>\n",
       "  </thead>\n",
       "  <tbody>\n",
       "    <tr>\n",
       "      <th>1799</th>\n",
       "      <td>efd880eb-a1f7-4202-9859-edc2eddf8fa9</td>\n",
       "      <td>b882180a-f04e-4668-acde-2f7589d0b241</td>\n",
       "      <td>325050.0</td>\n",
       "      <td>Short Term</td>\n",
       "      <td>737.0</td>\n",
       "      <td>1310050.0</td>\n",
       "      <td>1 year</td>\n",
       "      <td>Home Mortgage</td>\n",
       "      <td>Debt Consolidation</td>\n",
       "      <td>15502.29</td>\n",
       "      <td>22.5</td>\n",
       "      <td>12.0</td>\n",
       "      <td>22.0</td>\n",
       "      <td>0.0</td>\n",
       "      <td>305824.0</td>\n",
       "      <td>1089572.0</td>\n",
       "      <td>0.0</td>\n",
       "      <td>0.0</td>\n",
       "    </tr>\n",
       "    <tr>\n",
       "      <th>9700</th>\n",
       "      <td>70345fe8-d7e1-46dd-836d-bd75e257e0ee</td>\n",
       "      <td>52128c72-027a-4669-b5e9-ee47c3e12569</td>\n",
       "      <td>449108.0</td>\n",
       "      <td>Short Term</td>\n",
       "      <td>715.0</td>\n",
       "      <td>1260574.0</td>\n",
       "      <td>2 years</td>\n",
       "      <td>Home Mortgage</td>\n",
       "      <td>Home Improvements</td>\n",
       "      <td>15977.67</td>\n",
       "      <td>16.2</td>\n",
       "      <td>16.0</td>\n",
       "      <td>21.0</td>\n",
       "      <td>0.0</td>\n",
       "      <td>259711.0</td>\n",
       "      <td>922460.0</td>\n",
       "      <td>0.0</td>\n",
       "      <td>0.0</td>\n",
       "    </tr>\n",
       "    <tr>\n",
       "      <th>2569</th>\n",
       "      <td>5cc3ebe6-01fb-4bf3-8da3-0435f2062e97</td>\n",
       "      <td>32f031cf-9b22-46a7-9daa-1403b4b94a29</td>\n",
       "      <td>218130.0</td>\n",
       "      <td>Short Term</td>\n",
       "      <td>740.0</td>\n",
       "      <td>626373.0</td>\n",
       "      <td>4 years</td>\n",
       "      <td>Home Mortgage</td>\n",
       "      <td>Buy House</td>\n",
       "      <td>6211.48</td>\n",
       "      <td>17.0</td>\n",
       "      <td>27.0</td>\n",
       "      <td>6.0</td>\n",
       "      <td>0.0</td>\n",
       "      <td>90421.0</td>\n",
       "      <td>132198.0</td>\n",
       "      <td>0.0</td>\n",
       "      <td>0.0</td>\n",
       "    </tr>\n",
       "    <tr>\n",
       "      <th>5396</th>\n",
       "      <td>a35bff39-df54-470f-ba05-16f1f2569f16</td>\n",
       "      <td>efee98c1-47c7-4368-bc61-154fabb487dd</td>\n",
       "      <td>779086.0</td>\n",
       "      <td>Short Term</td>\n",
       "      <td>NaN</td>\n",
       "      <td>NaN</td>\n",
       "      <td>10+ years</td>\n",
       "      <td>Rent</td>\n",
       "      <td>Debt Consolidation</td>\n",
       "      <td>28355.79</td>\n",
       "      <td>16.8</td>\n",
       "      <td>NaN</td>\n",
       "      <td>20.0</td>\n",
       "      <td>0.0</td>\n",
       "      <td>627285.0</td>\n",
       "      <td>1265396.0</td>\n",
       "      <td>0.0</td>\n",
       "      <td>0.0</td>\n",
       "    </tr>\n",
       "    <tr>\n",
       "      <th>9025</th>\n",
       "      <td>e3dca8b1-af60-4cb0-91bb-a96de9cd79e2</td>\n",
       "      <td>e49726e2-f3c2-403c-877b-cd5d7d15fc30</td>\n",
       "      <td>286418.0</td>\n",
       "      <td>Long Term</td>\n",
       "      <td>NaN</td>\n",
       "      <td>NaN</td>\n",
       "      <td>10+ years</td>\n",
       "      <td>Rent</td>\n",
       "      <td>Debt Consolidation</td>\n",
       "      <td>22195.80</td>\n",
       "      <td>17.6</td>\n",
       "      <td>55.0</td>\n",
       "      <td>8.0</td>\n",
       "      <td>0.0</td>\n",
       "      <td>104576.0</td>\n",
       "      <td>165440.0</td>\n",
       "      <td>0.0</td>\n",
       "      <td>0.0</td>\n",
       "    </tr>\n",
       "  </tbody>\n",
       "</table>\n",
       "</div>"
      ],
      "text/plain": [
       "                                   Loan ID  \\\n",
       "1799  efd880eb-a1f7-4202-9859-edc2eddf8fa9   \n",
       "9700  70345fe8-d7e1-46dd-836d-bd75e257e0ee   \n",
       "2569  5cc3ebe6-01fb-4bf3-8da3-0435f2062e97   \n",
       "5396  a35bff39-df54-470f-ba05-16f1f2569f16   \n",
       "9025  e3dca8b1-af60-4cb0-91bb-a96de9cd79e2   \n",
       "\n",
       "                               Customer ID  Current Loan Amount        Term  \\\n",
       "1799  b882180a-f04e-4668-acde-2f7589d0b241             325050.0  Short Term   \n",
       "9700  52128c72-027a-4669-b5e9-ee47c3e12569             449108.0  Short Term   \n",
       "2569  32f031cf-9b22-46a7-9daa-1403b4b94a29             218130.0  Short Term   \n",
       "5396  efee98c1-47c7-4368-bc61-154fabb487dd             779086.0  Short Term   \n",
       "9025  e49726e2-f3c2-403c-877b-cd5d7d15fc30             286418.0   Long Term   \n",
       "\n",
       "      Credit Score  Annual Income Years in current job Home Ownership  \\\n",
       "1799         737.0      1310050.0               1 year  Home Mortgage   \n",
       "9700         715.0      1260574.0              2 years  Home Mortgage   \n",
       "2569         740.0       626373.0              4 years  Home Mortgage   \n",
       "5396           NaN            NaN            10+ years           Rent   \n",
       "9025           NaN            NaN            10+ years           Rent   \n",
       "\n",
       "                 Purpose  Monthly Debt  Years of Credit History  \\\n",
       "1799  Debt Consolidation      15502.29                     22.5   \n",
       "9700   Home Improvements      15977.67                     16.2   \n",
       "2569           Buy House       6211.48                     17.0   \n",
       "5396  Debt Consolidation      28355.79                     16.8   \n",
       "9025  Debt Consolidation      22195.80                     17.6   \n",
       "\n",
       "      Months since last delinquent  Number of Open Accounts  \\\n",
       "1799                          12.0                     22.0   \n",
       "9700                          16.0                     21.0   \n",
       "2569                          27.0                      6.0   \n",
       "5396                           NaN                     20.0   \n",
       "9025                          55.0                      8.0   \n",
       "\n",
       "      Number of Credit Problems  Current Credit Balance  Maximum Open Credit  \\\n",
       "1799                        0.0                305824.0            1089572.0   \n",
       "9700                        0.0                259711.0             922460.0   \n",
       "2569                        0.0                 90421.0             132198.0   \n",
       "5396                        0.0                627285.0            1265396.0   \n",
       "9025                        0.0                104576.0             165440.0   \n",
       "\n",
       "      Bankruptcies  Tax Liens  \n",
       "1799           0.0        0.0  \n",
       "9700           0.0        0.0  \n",
       "2569           0.0        0.0  \n",
       "5396           0.0        0.0  \n",
       "9025           0.0        0.0  "
      ]
     },
     "execution_count": 18,
     "metadata": {},
     "output_type": "execute_result"
    }
   ],
   "source": [
    "df_test_without_dupl.sample(5)"
   ]
  },
  {
   "cell_type": "code",
   "execution_count": 19,
   "metadata": {},
   "outputs": [
    {
     "name": "stdout",
     "output_type": "stream",
     "text": [
      "(89786, 19)\n",
      "(10001, 18)\n"
     ]
    }
   ],
   "source": [
    "print(df_without_dupl.shape)\n",
    "print(df_test_without_dupl.shape)"
   ]
  },
  {
   "cell_type": "code",
   "execution_count": 20,
   "metadata": {},
   "outputs": [],
   "source": [
    "dffinal = df_without_dupl.copy()\n",
    "dffinal_test = df_test_without_dupl.copy()"
   ]
  },
  {
   "cell_type": "code",
   "execution_count": 21,
   "metadata": {},
   "outputs": [
    {
     "data": {
      "text/plain": [
       "Months since last delinquent    48338\n",
       "Credit Score                    19155\n",
       "Annual Income                   19155\n",
       "Years in current job             3803\n",
       "Bankruptcies                      191\n",
       "Tax Liens                          10\n",
       "Maximum Open Credit                 3\n",
       "Customer ID                         1\n",
       "Loan Status                         1\n",
       "Current Loan Amount                 1\n",
       "Term                                1\n",
       "Purpose                             1\n",
       "Home Ownership                      1\n",
       "Monthly Debt                        1\n",
       "Years of Credit History             1\n",
       "Number of Open Accounts             1\n",
       "Number of Credit Problems           1\n",
       "Current Credit Balance              1\n",
       "Loan ID                             1\n",
       "dtype: int64"
      ]
     },
     "execution_count": 21,
     "metadata": {},
     "output_type": "execute_result"
    }
   ],
   "source": [
    "dffinal.isnull().sum().sort_values(ascending=False)"
   ]
  },
  {
   "cell_type": "code",
   "execution_count": 22,
   "metadata": {},
   "outputs": [
    {
     "data": {
      "text/plain": [
       "Months since last delinquent    5307\n",
       "Credit Score                    1982\n",
       "Annual Income                   1982\n",
       "Years in current job             428\n",
       "Bankruptcies                      23\n",
       "Tax Liens                          2\n",
       "Home Ownership                     1\n",
       "Customer ID                        1\n",
       "Current Loan Amount                1\n",
       "Term                               1\n",
       "Purpose                            1\n",
       "Monthly Debt                       1\n",
       "Years of Credit History            1\n",
       "Number of Open Accounts            1\n",
       "Number of Credit Problems          1\n",
       "Current Credit Balance             1\n",
       "Maximum Open Credit                1\n",
       "Loan ID                            1\n",
       "dtype: int64"
      ]
     },
     "execution_count": 22,
     "metadata": {},
     "output_type": "execute_result"
    }
   ],
   "source": [
    "dffinal_test.isnull().sum().sort_values(ascending=False)"
   ]
  },
  {
   "cell_type": "code",
   "execution_count": 24,
   "metadata": {},
   "outputs": [
    {
     "name": "stderr",
     "output_type": "stream",
     "text": [
      "C:\\Users\\User\\Anaconda3\\lib\\site-packages\\pandas_profiling\\describe.py:392: FutureWarning: The join_axes-keyword is deprecated. Use .reindex or .reindex_like on the result to achieve the same functionality.\n",
      "  variable_stats = pd.concat(ldesc, join_axes=pd.Index([names]), axis=1)\n"
     ]
    }
   ],
   "source": [
    "# Overview of dataset\n",
    "profile = ProfileReport(dffinal)"
   ]
  },
  {
   "cell_type": "code",
   "execution_count": 26,
   "metadata": {},
   "outputs": [],
   "source": [
    "# Saving overview as html file\n",
    "profile.to_file(\"report_before_cleaning.html\")"
   ]
  },
  {
   "cell_type": "code",
   "execution_count": 28,
   "metadata": {},
   "outputs": [],
   "source": [
    "# diwmmv - drop indices with most missing values\n",
    "def diwmmv(dataframe):\n",
    "    indices_to_drop = []\n",
    "#     print(len(dataframe.index))\n",
    "    for i in range(len(dataframe.index)) :\n",
    "        if dataframe.iloc[i].isnull().sum() >= 5:\n",
    "            print(\"Nan in row \", i , \" : \" ,  dataframe.iloc[i].isnull().sum())\n",
    "            indices_to_drop.append(i)\n",
    "      \n",
    "#     return indices_to_drop\n",
    "    df_upd = dataframe.drop(indices_to_drop)\n",
    "    return df_upd"
   ]
  },
  {
   "cell_type": "code",
   "execution_count": 29,
   "metadata": {},
   "outputs": [
    {
     "name": "stdout",
     "output_type": "stream",
     "text": [
      "Nan in row  41488  :  5\n",
      "Nan in row  89785  :  19\n"
     ]
    }
   ],
   "source": [
    "dffinal = diwmmv(dffinal)"
   ]
  },
  {
   "cell_type": "code",
   "execution_count": 30,
   "metadata": {},
   "outputs": [
    {
     "name": "stdout",
     "output_type": "stream",
     "text": [
      "Nan in row  10000  :  18\n"
     ]
    }
   ],
   "source": [
    "dffinal_test = diwmmv(dffinal_test)"
   ]
  },
  {
   "cell_type": "code",
   "execution_count": 31,
   "metadata": {},
   "outputs": [
    {
     "data": {
      "text/plain": [
       "Months since last delinquent    48337\n",
       "Credit Score                    19154\n",
       "Annual Income                   19154\n",
       "Years in current job             3803\n",
       "Bankruptcies                      191\n",
       "Tax Liens                          10\n",
       "Maximum Open Credit                 3\n",
       "Customer ID                         1\n",
       "Loan Status                         1\n",
       "Current Loan Amount                 1\n",
       "Term                                1\n",
       "Purpose                             1\n",
       "Home Ownership                      1\n",
       "Monthly Debt                        1\n",
       "Years of Credit History             1\n",
       "Number of Open Accounts             1\n",
       "Number of Credit Problems           1\n",
       "Current Credit Balance              1\n",
       "Loan ID                             1\n",
       "dtype: int64"
      ]
     },
     "execution_count": 31,
     "metadata": {},
     "output_type": "execute_result"
    }
   ],
   "source": [
    "dffinal.isnull().sum().sort_values(ascending=False)"
   ]
  },
  {
   "cell_type": "code",
   "execution_count": 32,
   "metadata": {},
   "outputs": [],
   "source": [
    "# deleting rows where Credit Score and Annual Income observations are Nan.\n",
    "columns = ['Credit Score', 'Annual Income']\n",
    "for column in columns:\n",
    "    dffinal = dffinal[dffinal[column].notna()]\n",
    "    dffinal_test = dffinal_test[dffinal_test[column].notna()]"
   ]
  },
  {
   "cell_type": "code",
   "execution_count": 33,
   "metadata": {},
   "outputs": [
    {
     "data": {
      "text/plain": [
       "Months since last delinquent    37868\n",
       "Years in current job             2992\n",
       "Bankruptcies                      148\n",
       "Tax Liens                           5\n",
       "Maximum Open Credit                 1\n",
       "Customer ID                         0\n",
       "Loan Status                         0\n",
       "Current Loan Amount                 0\n",
       "Term                                0\n",
       "Credit Score                        0\n",
       "Annual Income                       0\n",
       "Purpose                             0\n",
       "Home Ownership                      0\n",
       "Monthly Debt                        0\n",
       "Years of Credit History             0\n",
       "Number of Open Accounts             0\n",
       "Number of Credit Problems           0\n",
       "Current Credit Balance              0\n",
       "Loan ID                             0\n",
       "dtype: int64"
      ]
     },
     "execution_count": 33,
     "metadata": {},
     "output_type": "execute_result"
    }
   ],
   "source": [
    "dffinal.isnull().sum().sort_values(ascending=False)"
   ]
  },
  {
   "cell_type": "code",
   "execution_count": 34,
   "metadata": {},
   "outputs": [
    {
     "data": {
      "text/plain": [
       "(70630, 19)"
      ]
     },
     "execution_count": 34,
     "metadata": {},
     "output_type": "execute_result"
    }
   ],
   "source": [
    "dffinal.shape"
   ]
  },
  {
   "cell_type": "code",
   "execution_count": 35,
   "metadata": {},
   "outputs": [],
   "source": [
    "from sklearn.base import TransformerMixin\n",
    "\n",
    "class DataFrameImputer(TransformerMixin):\n",
    "\n",
    "    def __init__(self):\n",
    "        \"\"\"Impute missing values.\n",
    "\n",
    "        Columns of dtype object are imputed with the most frequent value \n",
    "        in column.\n",
    "\n",
    "        Columns of other types are imputed with mean of column.\n",
    "\n",
    "        \"\"\"\n",
    "    def fit(self, X, y=None):\n",
    "\n",
    "        self.fill = pd.Series([X[c].value_counts().index[0]\n",
    "            if X[c].dtype == np.dtype('O') else X[c].mean() for c in X],\n",
    "            index=X.columns)\n",
    "\n",
    "        return self\n",
    "\n",
    "    def transform(self, X, y=None):\n",
    "        return X.fillna(self.fill)\n",
    "\n",
    "    \n",
    "dffinal = DataFrameImputer().fit_transform(dffinal)\n",
    "dffinal_test = DataFrameImputer().fit_transform(dffinal_test)"
   ]
  },
  {
   "cell_type": "code",
   "execution_count": 36,
   "metadata": {},
   "outputs": [
    {
     "name": "stdout",
     "output_type": "stream",
     "text": [
      "Tax Liens                       0\n",
      "Home Ownership                  0\n",
      "Customer ID                     0\n",
      "Loan Status                     0\n",
      "Current Loan Amount             0\n",
      "Term                            0\n",
      "Credit Score                    0\n",
      "Annual Income                   0\n",
      "Years in current job            0\n",
      "Purpose                         0\n",
      "Bankruptcies                    0\n",
      "Monthly Debt                    0\n",
      "Years of Credit History         0\n",
      "Months since last delinquent    0\n",
      "Number of Open Accounts         0\n",
      "Number of Credit Problems       0\n",
      "Current Credit Balance          0\n",
      "Maximum Open Credit             0\n",
      "Loan ID                         0\n",
      "dtype: int64\n",
      "Tax Liens                       0\n",
      "Bankruptcies                    0\n",
      "Customer ID                     0\n",
      "Current Loan Amount             0\n",
      "Term                            0\n",
      "Credit Score                    0\n",
      "Annual Income                   0\n",
      "Years in current job            0\n",
      "Home Ownership                  0\n",
      "Purpose                         0\n",
      "Monthly Debt                    0\n",
      "Years of Credit History         0\n",
      "Months since last delinquent    0\n",
      "Number of Open Accounts         0\n",
      "Number of Credit Problems       0\n",
      "Current Credit Balance          0\n",
      "Maximum Open Credit             0\n",
      "Loan ID                         0\n",
      "dtype: int64\n"
     ]
    }
   ],
   "source": [
    "print(dffinal.isnull().sum().sort_values(ascending=False))\n",
    "print(dffinal_test.isnull().sum().sort_values(ascending=False))"
   ]
  },
  {
   "cell_type": "code",
   "execution_count": 37,
   "metadata": {},
   "outputs": [
    {
     "name": "stdout",
     "output_type": "stream",
     "text": [
      "The percentage of Fully Paid class : 0.77\n",
      "The percentage of Charged Off class : 0.23\n"
     ]
    },
    {
     "data": {
      "image/png": "[encoded data removed]",
      "text/plain": [
       "<Figure size 400x300 with 1 Axes>"
      ]
     },
     "metadata": {},
     "output_type": "display_data"
    }
   ],
   "source": [
    "# Target percentage \n",
    "plt.figure(figsize=(4,3))\n",
    "sns.countplot(dffinal['Loan Status']);\n",
    "\n",
    "print('The percentage of Fully Paid class : %.2f' % (df['Loan Status'].value_counts()[0] / len(df)))\n",
    "print('The percentage of Charged Off class : %.2f' % (df['Loan Status'].value_counts()[1] / len(df)))\n",
    "\n",
    "# As we see data is imbalanced"
   ]
  },
  {
   "cell_type": "code",
   "execution_count": 38,
   "metadata": {},
   "outputs": [
    {
     "name": "stderr",
     "output_type": "stream",
     "text": [
      "C:\\Users\\User\\Anaconda3\\lib\\site-packages\\seaborn\\axisgrid.py:230: UserWarning: The `size` paramter has been renamed to `height`; please update your code.\n",
      "  warnings.warn(msg, UserWarning)\n",
      "C:\\Users\\User\\Anaconda3\\lib\\site-packages\\seaborn\\axisgrid.py:715: UserWarning: Using the countplot function without specifying `order` is likely to produce an incorrect plot.\n",
      "  warnings.warn(warning)\n"
     ]
    },
    {
     "data": {
      "text/plain": [
       "<seaborn.axisgrid.FacetGrid at 0x12dc2708>"
      ]
     },
     "execution_count": 38,
     "metadata": {},
     "output_type": "execute_result"
    },
    {
     "data": {
      "image/png": "[encoded data removed]",
      "text/plain": [
       "<Figure size 1024x320 with 2 Axes>"
      ]
     },
     "metadata": {},
     "output_type": "display_data"
    }
   ],
   "source": [
    "# Term - Loan Status dependency\n",
    "grid = sns.FacetGrid(dffinal,col='Loan Status', size=3.2, aspect=1.6)\n",
    "grid.map(sns.countplot, 'Term')\n",
    "\n",
    "# Either people with short term or with long term, both have bigger chance to get loan\n",
    "# Not the most important feature so far"
   ]
  },
  {
   "cell_type": "code",
   "execution_count": 39,
   "metadata": {},
   "outputs": [
    {
     "data": {
      "text/plain": [
       "<matplotlib.axes._subplots.AxesSubplot at 0xc02b388>"
      ]
     },
     "execution_count": 39,
     "metadata": {},
     "output_type": "execute_result"
    },
    {
     "data": {
      "image/png": "[encoded data removed]",
      "text/plain": [
       "<Figure size 1500x500 with 1 Axes>"
      ]
     },
     "metadata": {},
     "output_type": "display_data"
    }
   ],
   "source": [
    "# Years in current job - Loan Status dependency\n",
    "plt.figure(figsize=(15,5))\n",
    "sns.countplot(x='Years in current job', hue='Loan Status', data=dffinal)\n",
    "\n",
    "# Here also people with 10+ years at the job, both have biggest chances either to get loan or to be rejected\n",
    "# Not the most important feature, but due to its variety it's quite affectable to the target"
   ]
  },
  {
   "cell_type": "code",
   "execution_count": 40,
   "metadata": {},
   "outputs": [
    {
     "data": {
      "text/plain": [
       "<matplotlib.axes._subplots.AxesSubplot at 0xc049b48>"
      ]
     },
     "execution_count": 40,
     "metadata": {},
     "output_type": "execute_result"
    },
    {
     "data": {
      "image/png": "[encoded data removed]",
      "text/plain": [
       "<Figure size 1500x500 with 1 Axes>"
      ]
     },
     "metadata": {},
     "output_type": "display_data"
    }
   ],
   "source": [
    "# Home Ownership - Loan Status dependency\n",
    "plt.figure(figsize=(15,5))\n",
    "sns.countplot(x='Home Ownership', hue='Loan Status', data=dffinal)\n",
    "\n",
    "# Here one can notice that people with Home Mortgage have bigger chance to get loan, but people with Rent have bigger chance to get rejected\n",
    "# Important feature"
   ]
  },
  {
   "cell_type": "code",
   "execution_count": 41,
   "metadata": {},
   "outputs": [
    {
     "data": {
      "text/plain": [
       "<matplotlib.axes._subplots.AxesSubplot at 0x1210f348>"
      ]
     },
     "execution_count": 41,
     "metadata": {},
     "output_type": "execute_result"
    },
    {
     "data": {
      "image/png": "[encoded data removed]",
      "text/plain": [
       "<Figure size 2000x1000 with 1 Axes>"
      ]
     },
     "metadata": {},
     "output_type": "display_data"
    }
   ],
   "source": [
    "# Purpose - Loan Status dependency\n",
    "plt.figure(figsize=(20,10))\n",
    "sns.countplot(x='Purpose', hue='Loan Status', data=dffinal)\n",
    "\n",
    "# Here people with Debt Consolidation purpose have the biggest chances both in getting loan and getting rejected.\n",
    "# Not so important feature"
   ]
  },
  {
   "cell_type": "code",
   "execution_count": 42,
   "metadata": {},
   "outputs": [
    {
     "data": {
      "text/plain": [
       "<matplotlib.collections.PathCollection at 0x16025808>"
      ]
     },
     "execution_count": 42,
     "metadata": {},
     "output_type": "execute_result"
    },
    {
     "data": {
      "image/png": "[encoded data removed]",
      "text/plain": [
       "<Figure size 800x550 with 1 Axes>"
      ]
     },
     "metadata": {},
     "output_type": "display_data"
    }
   ],
   "source": [
    "# Annual Income - Loan Status dependency\n",
    "plt.scatter(dffinal['Annual Income'], dffinal['Loan Status'])\n",
    "\n",
    "# No pattern"
   ]
  },
  {
   "cell_type": "code",
   "execution_count": 43,
   "metadata": {},
   "outputs": [
    {
     "data": {
      "text/html": [
       "<div>\n",
       "<style scoped>\n",
       "    .dataframe tbody tr th:only-of-type {\n",
       "        vertical-align: middle;\n",
       "    }\n",
       "\n",
       "    .dataframe tbody tr th {\n",
       "        vertical-align: top;\n",
       "    }\n",
       "\n",
       "    .dataframe thead th {\n",
       "        text-align: right;\n",
       "    }\n",
       "</style>\n",
       "<table border=\"1\" class=\"dataframe\">\n",
       "  <thead>\n",
       "    <tr style=\"text-align: right;\">\n",
       "      <th></th>\n",
       "      <th>Current Loan Amount</th>\n",
       "      <th>Credit Score</th>\n",
       "      <th>Annual Income</th>\n",
       "      <th>Monthly Debt</th>\n",
       "      <th>Years of Credit History</th>\n",
       "      <th>Months since last delinquent</th>\n",
       "      <th>Number of Open Accounts</th>\n",
       "      <th>Number of Credit Problems</th>\n",
       "      <th>Current Credit Balance</th>\n",
       "      <th>Maximum Open Credit</th>\n",
       "      <th>Bankruptcies</th>\n",
       "      <th>Tax Liens</th>\n",
       "    </tr>\n",
       "    <tr>\n",
       "      <th>Loan Status</th>\n",
       "      <th></th>\n",
       "      <th></th>\n",
       "      <th></th>\n",
       "      <th></th>\n",
       "      <th></th>\n",
       "      <th></th>\n",
       "      <th></th>\n",
       "      <th></th>\n",
       "      <th></th>\n",
       "      <th></th>\n",
       "      <th></th>\n",
       "      <th></th>\n",
       "    </tr>\n",
       "  </thead>\n",
       "  <tbody>\n",
       "    <tr>\n",
       "      <th>Charged Off</th>\n",
       "      <td>287749.0</td>\n",
       "      <td>730.0</td>\n",
       "      <td>1085812.0</td>\n",
       "      <td>16513.755</td>\n",
       "      <td>16.6</td>\n",
       "      <td>34.962518</td>\n",
       "      <td>10.0</td>\n",
       "      <td>0.0</td>\n",
       "      <td>214500.5</td>\n",
       "      <td>444048.0</td>\n",
       "      <td>0.0</td>\n",
       "      <td>0.0</td>\n",
       "    </tr>\n",
       "    <tr>\n",
       "      <th>Fully Paid</th>\n",
       "      <td>334730.0</td>\n",
       "      <td>728.0</td>\n",
       "      <td>1215620.0</td>\n",
       "      <td>16024.410</td>\n",
       "      <td>17.0</td>\n",
       "      <td>34.962518</td>\n",
       "      <td>10.0</td>\n",
       "      <td>0.0</td>\n",
       "      <td>209057.0</td>\n",
       "      <td>482064.0</td>\n",
       "      <td>0.0</td>\n",
       "      <td>0.0</td>\n",
       "    </tr>\n",
       "  </tbody>\n",
       "</table>\n",
       "</div>"
      ],
      "text/plain": [
       "             Current Loan Amount  Credit Score  Annual Income  Monthly Debt  \\\n",
       "Loan Status                                                                   \n",
       "Charged Off             287749.0         730.0      1085812.0     16513.755   \n",
       "Fully Paid              334730.0         728.0      1215620.0     16024.410   \n",
       "\n",
       "             Years of Credit History  Months since last delinquent  \\\n",
       "Loan Status                                                          \n",
       "Charged Off                     16.6                     34.962518   \n",
       "Fully Paid                      17.0                     34.962518   \n",
       "\n",
       "             Number of Open Accounts  Number of Credit Problems  \\\n",
       "Loan Status                                                       \n",
       "Charged Off                     10.0                        0.0   \n",
       "Fully Paid                      10.0                        0.0   \n",
       "\n",
       "             Current Credit Balance  Maximum Open Credit  Bankruptcies  \\\n",
       "Loan Status                                                              \n",
       "Charged Off                214500.5             444048.0           0.0   \n",
       "Fully Paid                 209057.0             482064.0           0.0   \n",
       "\n",
       "             Tax Liens  \n",
       "Loan Status             \n",
       "Charged Off        0.0  \n",
       "Fully Paid         0.0  "
      ]
     },
     "execution_count": 43,
     "metadata": {},
     "output_type": "execute_result"
    }
   ],
   "source": [
    "dffinal.groupby('Loan Status').median() # we use median because it has no affect to outliers"
   ]
  },
  {
   "cell_type": "code",
   "execution_count": 44,
   "metadata": {},
   "outputs": [
    {
     "data": {
      "text/html": [
       "<div>\n",
       "<style scoped>\n",
       "    .dataframe tbody tr th:only-of-type {\n",
       "        vertical-align: middle;\n",
       "    }\n",
       "\n",
       "    .dataframe tbody tr th {\n",
       "        vertical-align: top;\n",
       "    }\n",
       "\n",
       "    .dataframe thead th {\n",
       "        text-align: right;\n",
       "    }\n",
       "</style>\n",
       "<table border=\"1\" class=\"dataframe\">\n",
       "  <thead>\n",
       "    <tr style=\"text-align: right;\">\n",
       "      <th></th>\n",
       "      <th>Current Loan Amount</th>\n",
       "      <th>Credit Score</th>\n",
       "      <th>Annual Income</th>\n",
       "      <th>Monthly Debt</th>\n",
       "      <th>Years of Credit History</th>\n",
       "      <th>Months since last delinquent</th>\n",
       "      <th>Number of Open Accounts</th>\n",
       "      <th>Number of Credit Problems</th>\n",
       "      <th>Current Credit Balance</th>\n",
       "      <th>Maximum Open Credit</th>\n",
       "      <th>Bankruptcies</th>\n",
       "      <th>Tax Liens</th>\n",
       "    </tr>\n",
       "  </thead>\n",
       "  <tbody>\n",
       "    <tr>\n",
       "      <th>count</th>\n",
       "      <td>7.063000e+04</td>\n",
       "      <td>70630.000000</td>\n",
       "      <td>7.063000e+04</td>\n",
       "      <td>70630.000000</td>\n",
       "      <td>70630.000000</td>\n",
       "      <td>70630.000000</td>\n",
       "      <td>70630.000000</td>\n",
       "      <td>70630.000000</td>\n",
       "      <td>7.063000e+04</td>\n",
       "      <td>7.063000e+04</td>\n",
       "      <td>70630.000000</td>\n",
       "      <td>70630.000000</td>\n",
       "    </tr>\n",
       "    <tr>\n",
       "      <th>mean</th>\n",
       "      <td>1.652028e+07</td>\n",
       "      <td>1130.835990</td>\n",
       "      <td>1.375887e+06</td>\n",
       "      <td>18420.167622</td>\n",
       "      <td>18.244556</td>\n",
       "      <td>34.962518</td>\n",
       "      <td>11.138822</td>\n",
       "      <td>0.166091</td>\n",
       "      <td>2.943561e+05</td>\n",
       "      <td>7.503690e+05</td>\n",
       "      <td>0.116172</td>\n",
       "      <td>0.029267</td>\n",
       "    </tr>\n",
       "    <tr>\n",
       "      <th>std</th>\n",
       "      <td>3.678515e+07</td>\n",
       "      <td>1571.047864</td>\n",
       "      <td>1.104858e+06</td>\n",
       "      <td>12205.168371</td>\n",
       "      <td>7.029593</td>\n",
       "      <td>14.968275</td>\n",
       "      <td>5.017978</td>\n",
       "      <td>0.482672</td>\n",
       "      <td>3.775314e+05</td>\n",
       "      <td>7.302034e+06</td>\n",
       "      <td>0.349002</td>\n",
       "      <td>0.261845</td>\n",
       "    </tr>\n",
       "    <tr>\n",
       "      <th>min</th>\n",
       "      <td>1.124200e+04</td>\n",
       "      <td>585.000000</td>\n",
       "      <td>7.662700e+04</td>\n",
       "      <td>0.000000</td>\n",
       "      <td>3.700000</td>\n",
       "      <td>0.000000</td>\n",
       "      <td>1.000000</td>\n",
       "      <td>0.000000</td>\n",
       "      <td>0.000000e+00</td>\n",
       "      <td>0.000000e+00</td>\n",
       "      <td>0.000000</td>\n",
       "      <td>0.000000</td>\n",
       "    </tr>\n",
       "    <tr>\n",
       "      <th>25%</th>\n",
       "      <td>1.904155e+05</td>\n",
       "      <td>708.000000</td>\n",
       "      <td>8.479225e+05</td>\n",
       "      <td>10180.960000</td>\n",
       "      <td>13.500000</td>\n",
       "      <td>34.000000</td>\n",
       "      <td>8.000000</td>\n",
       "      <td>0.000000</td>\n",
       "      <td>1.129218e+05</td>\n",
       "      <td>2.761440e+05</td>\n",
       "      <td>0.000000</td>\n",
       "      <td>0.000000</td>\n",
       "    </tr>\n",
       "    <tr>\n",
       "      <th>50%</th>\n",
       "      <td>3.268980e+05</td>\n",
       "      <td>729.000000</td>\n",
       "      <td>1.168956e+06</td>\n",
       "      <td>16152.565000</td>\n",
       "      <td>17.000000</td>\n",
       "      <td>34.962518</td>\n",
       "      <td>10.000000</td>\n",
       "      <td>0.000000</td>\n",
       "      <td>2.104060e+05</td>\n",
       "      <td>4.721420e+05</td>\n",
       "      <td>0.000000</td>\n",
       "      <td>0.000000</td>\n",
       "    </tr>\n",
       "    <tr>\n",
       "      <th>75%</th>\n",
       "      <td>5.678805e+05</td>\n",
       "      <td>742.000000</td>\n",
       "      <td>1.648915e+06</td>\n",
       "      <td>23932.922500</td>\n",
       "      <td>21.700000</td>\n",
       "      <td>34.962518</td>\n",
       "      <td>14.000000</td>\n",
       "      <td>0.000000</td>\n",
       "      <td>3.677972e+05</td>\n",
       "      <td>7.906085e+05</td>\n",
       "      <td>0.000000</td>\n",
       "      <td>0.000000</td>\n",
       "    </tr>\n",
       "    <tr>\n",
       "      <th>max</th>\n",
       "      <td>1.000000e+08</td>\n",
       "      <td>7510.000000</td>\n",
       "      <td>1.655574e+08</td>\n",
       "      <td>435843.280000</td>\n",
       "      <td>70.500000</td>\n",
       "      <td>176.000000</td>\n",
       "      <td>76.000000</td>\n",
       "      <td>15.000000</td>\n",
       "      <td>3.287897e+07</td>\n",
       "      <td>1.539738e+09</td>\n",
       "      <td>7.000000</td>\n",
       "      <td>15.000000</td>\n",
       "    </tr>\n",
       "  </tbody>\n",
       "</table>\n",
       "</div>"
      ],
      "text/plain": [
       "       Current Loan Amount  Credit Score  Annual Income   Monthly Debt  \\\n",
       "count         7.063000e+04  70630.000000   7.063000e+04   70630.000000   \n",
       "mean          1.652028e+07   1130.835990   1.375887e+06   18420.167622   \n",
       "std           3.678515e+07   1571.047864   1.104858e+06   12205.168371   \n",
       "min           1.124200e+04    585.000000   7.662700e+04       0.000000   \n",
       "25%           1.904155e+05    708.000000   8.479225e+05   10180.960000   \n",
       "50%           3.268980e+05    729.000000   1.168956e+06   16152.565000   \n",
       "75%           5.678805e+05    742.000000   1.648915e+06   23932.922500   \n",
       "max           1.000000e+08   7510.000000   1.655574e+08  435843.280000   \n",
       "\n",
       "       Years of Credit History  Months since last delinquent  \\\n",
       "count             70630.000000                  70630.000000   \n",
       "mean                 18.244556                     34.962518   \n",
       "std                   7.029593                     14.968275   \n",
       "min                   3.700000                      0.000000   \n",
       "25%                  13.500000                     34.000000   \n",
       "50%                  17.000000                     34.962518   \n",
       "75%                  21.700000                     34.962518   \n",
       "max                  70.500000                    176.000000   \n",
       "\n",
       "       Number of Open Accounts  Number of Credit Problems  \\\n",
       "count             70630.000000               70630.000000   \n",
       "mean                 11.138822                   0.166091   \n",
       "std                   5.017978                   0.482672   \n",
       "min                   1.000000                   0.000000   \n",
       "25%                   8.000000                   0.000000   \n",
       "50%                  10.000000                   0.000000   \n",
       "75%                  14.000000                   0.000000   \n",
       "max                  76.000000                  15.000000   \n",
       "\n",
       "       Current Credit Balance  Maximum Open Credit  Bankruptcies     Tax Liens  \n",
       "count            7.063000e+04         7.063000e+04  70630.000000  70630.000000  \n",
       "mean             2.943561e+05         7.503690e+05      0.116172      0.029267  \n",
       "std              3.775314e+05         7.302034e+06      0.349002      0.261845  \n",
       "min              0.000000e+00         0.000000e+00      0.000000      0.000000  \n",
       "25%              1.129218e+05         2.761440e+05      0.000000      0.000000  \n",
       "50%              2.104060e+05         4.721420e+05      0.000000      0.000000  \n",
       "75%              3.677972e+05         7.906085e+05      0.000000      0.000000  \n",
       "max              3.287897e+07         1.539738e+09      7.000000     15.000000  "
      ]
     },
     "execution_count": 44,
     "metadata": {},
     "output_type": "execute_result"
    }
   ],
   "source": [
    "dffinal.describe()"
   ]
  },
  {
   "cell_type": "code",
   "execution_count": 45,
   "metadata": {},
   "outputs": [],
   "source": [
    "# fig = plt.figure()\n",
    "# fig.set_figheight(15)\n",
    "# fig.set_figwidth(17)\n",
    "\n",
    "# plt.subplot(4, 1, 1)\n",
    "# sns.countplot(x='Purpose', data=dffinal, hue='Loan Status')\n",
    "\n",
    "# plt.subplot(4, 1, 2)\n",
    "# sns.countplot(x='Years in current job', data=dffinal, hue='Loan Status')\n",
    "\n",
    "# plt.subplot(4, 1, 3)\n",
    "# sns.countplot(x='Home Ownership', data=dffinal, hue='Loan Status')\n",
    "\n",
    "# plt.subplot(4, 1, 4)\n",
    "# sns.countplot(x='Term', data=dffinal, hue='Loan Status')\n",
    "\n",
    "\n",
    "# plt.show()"
   ]
  },
  {
   "cell_type": "code",
   "execution_count": 46,
   "metadata": {},
   "outputs": [
    {
     "data": {
      "text/plain": [
       "0.000000    62801\n",
       "1.000000     7303\n",
       "2.000000      283\n",
       "0.116172      148\n",
       "3.000000       70\n",
       "4.000000       19\n",
       "5.000000        4\n",
       "7.000000        1\n",
       "6.000000        1\n",
       "Name: Bankruptcies, dtype: int64"
      ]
     },
     "execution_count": 46,
     "metadata": {},
     "output_type": "execute_result"
    }
   ],
   "source": [
    "# Value count of features\n",
    "dffinal['Bankruptcies'].value_counts()"
   ]
  },
  {
   "cell_type": "code",
   "execution_count": 47,
   "metadata": {},
   "outputs": [
    {
     "data": {
      "text/plain": [
       "0.000000     69281\n",
       "1.000000       933\n",
       "2.000000       260\n",
       "3.000000        74\n",
       "4.000000        43\n",
       "5.000000        14\n",
       "6.000000         9\n",
       "7.000000         6\n",
       "0.029267         5\n",
       "9.000000         2\n",
       "15.000000        1\n",
       "11.000000        1\n",
       "10.000000        1\n",
       "Name: Tax Liens, dtype: int64"
      ]
     },
     "execution_count": 47,
     "metadata": {},
     "output_type": "execute_result"
    }
   ],
   "source": [
    "dffinal['Tax Liens'].value_counts()"
   ]
  },
  {
   "cell_type": "code",
   "execution_count": 48,
   "metadata": {},
   "outputs": [
    {
     "data": {
      "text/plain": [
       "0.0     60914\n",
       "1.0      8405\n",
       "2.0       897\n",
       "3.0       261\n",
       "4.0        87\n",
       "5.0        38\n",
       "6.0        12\n",
       "7.0         7\n",
       "8.0         3\n",
       "9.0         2\n",
       "15.0        1\n",
       "12.0        1\n",
       "11.0        1\n",
       "10.0        1\n",
       "Name: Number of Credit Problems, dtype: int64"
      ]
     },
     "execution_count": 48,
     "metadata": {},
     "output_type": "execute_result"
    }
   ],
   "source": [
    "dffinal['Number of Credit Problems'].value_counts()"
   ]
  },
  {
   "cell_type": "code",
   "execution_count": 49,
   "metadata": {},
   "outputs": [],
   "source": [
    "# Drop irrelevant and redundant features\n",
    "dffinal = dffinal.drop(['Loan ID', 'Customer ID', 'Months since last delinquent'], axis=1)\n",
    "dffinal_test = dffinal_test.drop(['Loan ID', 'Customer ID', 'Months since last delinquent'], axis=1)"
   ]
  },
  {
   "cell_type": "code",
   "execution_count": 50,
   "metadata": {},
   "outputs": [
    {
     "data": {
      "text/html": [
       "<div>\n",
       "<style scoped>\n",
       "    .dataframe tbody tr th:only-of-type {\n",
       "        vertical-align: middle;\n",
       "    }\n",
       "\n",
       "    .dataframe tbody tr th {\n",
       "        vertical-align: top;\n",
       "    }\n",
       "\n",
       "    .dataframe thead th {\n",
       "        text-align: right;\n",
       "    }\n",
       "</style>\n",
       "<table border=\"1\" class=\"dataframe\">\n",
       "  <thead>\n",
       "    <tr style=\"text-align: right;\">\n",
       "      <th></th>\n",
       "      <th>Loan Status</th>\n",
       "      <th>Current Loan Amount</th>\n",
       "      <th>Term</th>\n",
       "      <th>Credit Score</th>\n",
       "      <th>Annual Income</th>\n",
       "      <th>Years in current job</th>\n",
       "      <th>Home Ownership</th>\n",
       "      <th>Purpose</th>\n",
       "      <th>Monthly Debt</th>\n",
       "      <th>Years of Credit History</th>\n",
       "      <th>Number of Open Accounts</th>\n",
       "      <th>Number of Credit Problems</th>\n",
       "      <th>Current Credit Balance</th>\n",
       "      <th>Maximum Open Credit</th>\n",
       "      <th>Bankruptcies</th>\n",
       "      <th>Tax Liens</th>\n",
       "    </tr>\n",
       "  </thead>\n",
       "  <tbody>\n",
       "    <tr>\n",
       "      <th>0</th>\n",
       "      <td>Fully Paid</td>\n",
       "      <td>445412.0</td>\n",
       "      <td>Short Term</td>\n",
       "      <td>709.0</td>\n",
       "      <td>1167493.0</td>\n",
       "      <td>8 years</td>\n",
       "      <td>Home Mortgage</td>\n",
       "      <td>Home Improvements</td>\n",
       "      <td>5214.74</td>\n",
       "      <td>17.2</td>\n",
       "      <td>6.0</td>\n",
       "      <td>1.0</td>\n",
       "      <td>228190.0</td>\n",
       "      <td>416746.0</td>\n",
       "      <td>1.0</td>\n",
       "      <td>0.0</td>\n",
       "    </tr>\n",
       "    <tr>\n",
       "      <th>2</th>\n",
       "      <td>Fully Paid</td>\n",
       "      <td>99999999.0</td>\n",
       "      <td>Short Term</td>\n",
       "      <td>741.0</td>\n",
       "      <td>2231892.0</td>\n",
       "      <td>8 years</td>\n",
       "      <td>Own Home</td>\n",
       "      <td>Debt Consolidation</td>\n",
       "      <td>29200.53</td>\n",
       "      <td>14.9</td>\n",
       "      <td>18.0</td>\n",
       "      <td>1.0</td>\n",
       "      <td>297996.0</td>\n",
       "      <td>750090.0</td>\n",
       "      <td>0.0</td>\n",
       "      <td>0.0</td>\n",
       "    </tr>\n",
       "    <tr>\n",
       "      <th>3</th>\n",
       "      <td>Fully Paid</td>\n",
       "      <td>347666.0</td>\n",
       "      <td>Long Term</td>\n",
       "      <td>721.0</td>\n",
       "      <td>806949.0</td>\n",
       "      <td>3 years</td>\n",
       "      <td>Own Home</td>\n",
       "      <td>Debt Consolidation</td>\n",
       "      <td>8741.90</td>\n",
       "      <td>12.0</td>\n",
       "      <td>9.0</td>\n",
       "      <td>0.0</td>\n",
       "      <td>256329.0</td>\n",
       "      <td>386958.0</td>\n",
       "      <td>0.0</td>\n",
       "      <td>0.0</td>\n",
       "    </tr>\n",
       "    <tr>\n",
       "      <th>5</th>\n",
       "      <td>Charged Off</td>\n",
       "      <td>206602.0</td>\n",
       "      <td>Short Term</td>\n",
       "      <td>7290.0</td>\n",
       "      <td>896857.0</td>\n",
       "      <td>10+ years</td>\n",
       "      <td>Home Mortgage</td>\n",
       "      <td>Debt Consolidation</td>\n",
       "      <td>16367.74</td>\n",
       "      <td>17.3</td>\n",
       "      <td>6.0</td>\n",
       "      <td>0.0</td>\n",
       "      <td>215308.0</td>\n",
       "      <td>272448.0</td>\n",
       "      <td>0.0</td>\n",
       "      <td>0.0</td>\n",
       "    </tr>\n",
       "    <tr>\n",
       "      <th>6</th>\n",
       "      <td>Fully Paid</td>\n",
       "      <td>217646.0</td>\n",
       "      <td>Short Term</td>\n",
       "      <td>730.0</td>\n",
       "      <td>1184194.0</td>\n",
       "      <td>&lt; 1 year</td>\n",
       "      <td>Home Mortgage</td>\n",
       "      <td>Debt Consolidation</td>\n",
       "      <td>10855.08</td>\n",
       "      <td>19.6</td>\n",
       "      <td>13.0</td>\n",
       "      <td>1.0</td>\n",
       "      <td>122170.0</td>\n",
       "      <td>272052.0</td>\n",
       "      <td>1.0</td>\n",
       "      <td>0.0</td>\n",
       "    </tr>\n",
       "  </tbody>\n",
       "</table>\n",
       "</div>"
      ],
      "text/plain": [
       "   Loan Status  Current Loan Amount        Term  Credit Score  Annual Income  \\\n",
       "0   Fully Paid             445412.0  Short Term         709.0      1167493.0   \n",
       "2   Fully Paid           99999999.0  Short Term         741.0      2231892.0   \n",
       "3   Fully Paid             347666.0   Long Term         721.0       806949.0   \n",
       "5  Charged Off             206602.0  Short Term        7290.0       896857.0   \n",
       "6   Fully Paid             217646.0  Short Term         730.0      1184194.0   \n",
       "\n",
       "  Years in current job Home Ownership             Purpose  Monthly Debt  \\\n",
       "0              8 years  Home Mortgage   Home Improvements       5214.74   \n",
       "2              8 years       Own Home  Debt Consolidation      29200.53   \n",
       "3              3 years       Own Home  Debt Consolidation       8741.90   \n",
       "5            10+ years  Home Mortgage  Debt Consolidation      16367.74   \n",
       "6             < 1 year  Home Mortgage  Debt Consolidation      10855.08   \n",
       "\n",
       "   Years of Credit History  Number of Open Accounts  \\\n",
       "0                     17.2                      6.0   \n",
       "2                     14.9                     18.0   \n",
       "3                     12.0                      9.0   \n",
       "5                     17.3                      6.0   \n",
       "6                     19.6                     13.0   \n",
       "\n",
       "   Number of Credit Problems  Current Credit Balance  Maximum Open Credit  \\\n",
       "0                        1.0                228190.0             416746.0   \n",
       "2                        1.0                297996.0             750090.0   \n",
       "3                        0.0                256329.0             386958.0   \n",
       "5                        0.0                215308.0             272448.0   \n",
       "6                        1.0                122170.0             272052.0   \n",
       "\n",
       "   Bankruptcies  Tax Liens  \n",
       "0           1.0        0.0  \n",
       "2           0.0        0.0  \n",
       "3           0.0        0.0  \n",
       "5           0.0        0.0  \n",
       "6           1.0        0.0  "
      ]
     },
     "execution_count": 50,
     "metadata": {},
     "output_type": "execute_result"
    }
   ],
   "source": [
    "dffinal.head()"
   ]
  },
  {
   "cell_type": "code",
   "execution_count": 51,
   "metadata": {},
   "outputs": [
    {
     "data": {
      "text/plain": [
       "Debt Consolidation      55595\n",
       "other                    4215\n",
       "Home Improvements        4118\n",
       "Other                    2274\n",
       "Business Loan            1072\n",
       "Buy a Car                 924\n",
       "Medical Bills             777\n",
       "Buy House                 469\n",
       "Take a Trip               391\n",
       "major_purchase            260\n",
       "small_business            206\n",
       "moving                    110\n",
       "wedding                    78\n",
       "Educational Expenses       74\n",
       "vacation                   61\n",
       "renewable_energy            6\n",
       "Name: Purpose, dtype: int64"
      ]
     },
     "execution_count": 51,
     "metadata": {},
     "output_type": "execute_result"
    }
   ],
   "source": [
    "dffinal['Purpose'].value_counts()"
   ]
  },
  {
   "cell_type": "code",
   "execution_count": 52,
   "metadata": {},
   "outputs": [],
   "source": [
    "# reseting indeces in ordered format as it was in messy format\n",
    "dffinal = dffinal.reset_index(drop=True)\n",
    "dffinal_test = dffinal_test.reset_index(drop=True)"
   ]
  },
  {
   "cell_type": "code",
   "execution_count": 53,
   "metadata": {},
   "outputs": [],
   "source": [
    "# as we have two identical values for Purpose feature which are other and Other, we concat those two into one\n",
    "dffinal['Purpose'] = dffinal['Purpose'].replace({'other': 'Other'})\n",
    "dffinal_test['Purpose'] = dffinal_test['Purpose'].replace({'other': 'Other'})"
   ]
  },
  {
   "cell_type": "code",
   "execution_count": 54,
   "metadata": {},
   "outputs": [],
   "source": [
    "# fig = plt.figure(figsize=(15,15))\n",
    "# ax1 = plt.subplot2grid((3,2),(0,0))\n",
    "# plt.scatter(x=dffinal['Current Loan Amount'], y=dffinal['Loan Status'], color=('yellowgreen'), alpha=0.5)\n",
    "# # plt.axvline(x=4600, color='r', linestyle='-')\n",
    "# plt.title('sqft_living- Price scatter plot', fontsize=15, weight='bold' )\n",
    "\n",
    "# ax1 = plt.subplot2grid((3,2),(0,1))\n",
    "# plt.scatter(x=dffinal['Credit Score'], y=dffinal['Loan Status'], color=('red'),alpha=0.5)\n",
    "# # plt.axvline(x=5900, color='r', linestyle='-')\n",
    "# plt.title('sqft_above - Price scatter plot', fontsize=15, weight='bold' )\n",
    "\n",
    "# ax1 = plt.subplot2grid((3,2),(1,0))\n",
    "# plt.scatter(x=dffinal['Annual Income'], y=dffinal['Loan Status'], color=('deepskyblue'),alpha=0.5)\n",
    "# # plt.axvline(x=4000, color='r', linestyle='-')\n",
    "# plt.title('bathrooms - Price scatter plot', fontsize=15, weight='bold' )\n",
    "\n",
    "# ax1 = plt.subplot2grid((3,2),(1,1))\n",
    "# plt.scatter(x=dffinal['Current Credit Balance'], y=dffinal['Loan Status'], color=('gold'),alpha=0.9)\n",
    "# # plt.axvline(x=1500, color='r', linestyle='-')\n",
    "# plt.title('sqft_basement - Price scatter plot', fontsize=15, weight='bold' )\n",
    "\n",
    "# ax1 = plt.subplot2grid((3,2),(2,0))\n",
    "# plt.scatter(x=dffinal['Maximum Open Credit'], y=dffinal['Loan Status'], color=('orchid'),alpha=0.5)\n",
    "# # plt.axvline(x=1230, color='r', linestyle='-')\n",
    "# plt.title('bedrooms - Price scatter plot', fontsize=15, weight='bold' )\n",
    "\n",
    "# ax1 = plt.subplot2grid((3,2),(2,1))\n",
    "# plt.scatter(x=dffinal['Monthly Debt'], y=dffinal['Loan Status'], color=('tan'),alpha=0.9)\n",
    "# # plt.axvline(x=13, color='r', linestyle='-')\n",
    "# plt.title('view - Price scatter plot', fontsize=15, weight='bold' )\n",
    "# plt.show()"
   ]
  },
  {
   "cell_type": "code",
   "execution_count": 55,
   "metadata": {},
   "outputs": [],
   "source": [
    "# Encoding target values using mapping and separating target and features\n",
    "target_values = {'Fully Paid': 0 , 'Charged Off' : 1}\n",
    "target = dffinal['Loan Status']\n",
    "dffinal.drop('Loan Status', axis=1, inplace=True)\n",
    "target = target.map(target_values)"
   ]
  },
  {
   "cell_type": "code",
   "execution_count": 56,
   "metadata": {},
   "outputs": [],
   "source": [
    "# Label Encoding\n",
    "from sklearn.preprocessing import LabelEncoder  \n",
    "le = LabelEncoder()"
   ]
  },
  {
   "cell_type": "code",
   "execution_count": 57,
   "metadata": {},
   "outputs": [],
   "source": [
    "# Columns needed to be encoded\n",
    "le_list = ['Years in current job', 'Purpose']"
   ]
  },
  {
   "cell_type": "code",
   "execution_count": 58,
   "metadata": {},
   "outputs": [],
   "source": [
    "# Encoding features using label encoding\n",
    "for column in le_list:\n",
    "    dffinal[column] = le.fit_transform(dffinal[column])\n",
    "    dffinal_test[column] = le.fit_transform(dffinal_test[column])"
   ]
  },
  {
   "cell_type": "code",
   "execution_count": 59,
   "metadata": {},
   "outputs": [
    {
     "data": {
      "text/plain": [
       "(70630, 19)"
      ]
     },
     "execution_count": 59,
     "metadata": {},
     "output_type": "execute_result"
    }
   ],
   "source": [
    "# Encoding remaining features using one hot encoding\n",
    "df_with_dummies = pd.get_dummies(dffinal)\n",
    "df_with_dummies.shape"
   ]
  },
  {
   "cell_type": "code",
   "execution_count": 60,
   "metadata": {},
   "outputs": [
    {
     "data": {
      "text/plain": [
       "(8019, 19)"
      ]
     },
     "execution_count": 60,
     "metadata": {},
     "output_type": "execute_result"
    }
   ],
   "source": [
    "# Do the same with test dataset\n",
    "df_test_with_dummies = pd.get_dummies(dffinal_test)\n",
    "df_test_with_dummies.shape"
   ]
  },
  {
   "cell_type": "code",
   "execution_count": 61,
   "metadata": {},
   "outputs": [
    {
     "data": {
      "text/html": [
       "<div>\n",
       "<style scoped>\n",
       "    .dataframe tbody tr th:only-of-type {\n",
       "        vertical-align: middle;\n",
       "    }\n",
       "\n",
       "    .dataframe tbody tr th {\n",
       "        vertical-align: top;\n",
       "    }\n",
       "\n",
       "    .dataframe thead th {\n",
       "        text-align: right;\n",
       "    }\n",
       "</style>\n",
       "<table border=\"1\" class=\"dataframe\">\n",
       "  <thead>\n",
       "    <tr style=\"text-align: right;\">\n",
       "      <th></th>\n",
       "      <th>Current Loan Amount</th>\n",
       "      <th>Credit Score</th>\n",
       "      <th>Annual Income</th>\n",
       "      <th>Years in current job</th>\n",
       "      <th>Purpose</th>\n",
       "      <th>Monthly Debt</th>\n",
       "      <th>Years of Credit History</th>\n",
       "      <th>Number of Open Accounts</th>\n",
       "      <th>Number of Credit Problems</th>\n",
       "      <th>Current Credit Balance</th>\n",
       "      <th>Maximum Open Credit</th>\n",
       "      <th>Bankruptcies</th>\n",
       "      <th>Tax Liens</th>\n",
       "      <th>Term_Long Term</th>\n",
       "      <th>Term_Short Term</th>\n",
       "      <th>Home Ownership_HaveMortgage</th>\n",
       "      <th>Home Ownership_Home Mortgage</th>\n",
       "      <th>Home Ownership_Own Home</th>\n",
       "      <th>Home Ownership_Rent</th>\n",
       "    </tr>\n",
       "  </thead>\n",
       "  <tbody>\n",
       "    <tr>\n",
       "      <th>0</th>\n",
       "      <td>445412.0</td>\n",
       "      <td>709.0</td>\n",
       "      <td>1167493.0</td>\n",
       "      <td>8</td>\n",
       "      <td>5</td>\n",
       "      <td>5214.74</td>\n",
       "      <td>17.2</td>\n",
       "      <td>6.0</td>\n",
       "      <td>1.0</td>\n",
       "      <td>228190.0</td>\n",
       "      <td>416746.0</td>\n",
       "      <td>1.0</td>\n",
       "      <td>0.0</td>\n",
       "      <td>0</td>\n",
       "      <td>1</td>\n",
       "      <td>0</td>\n",
       "      <td>1</td>\n",
       "      <td>0</td>\n",
       "      <td>0</td>\n",
       "    </tr>\n",
       "    <tr>\n",
       "      <th>1</th>\n",
       "      <td>99999999.0</td>\n",
       "      <td>741.0</td>\n",
       "      <td>2231892.0</td>\n",
       "      <td>8</td>\n",
       "      <td>3</td>\n",
       "      <td>29200.53</td>\n",
       "      <td>14.9</td>\n",
       "      <td>18.0</td>\n",
       "      <td>1.0</td>\n",
       "      <td>297996.0</td>\n",
       "      <td>750090.0</td>\n",
       "      <td>0.0</td>\n",
       "      <td>0.0</td>\n",
       "      <td>0</td>\n",
       "      <td>1</td>\n",
       "      <td>0</td>\n",
       "      <td>0</td>\n",
       "      <td>1</td>\n",
       "      <td>0</td>\n",
       "    </tr>\n",
       "    <tr>\n",
       "      <th>2</th>\n",
       "      <td>347666.0</td>\n",
       "      <td>721.0</td>\n",
       "      <td>806949.0</td>\n",
       "      <td>3</td>\n",
       "      <td>3</td>\n",
       "      <td>8741.90</td>\n",
       "      <td>12.0</td>\n",
       "      <td>9.0</td>\n",
       "      <td>0.0</td>\n",
       "      <td>256329.0</td>\n",
       "      <td>386958.0</td>\n",
       "      <td>0.0</td>\n",
       "      <td>0.0</td>\n",
       "      <td>1</td>\n",
       "      <td>0</td>\n",
       "      <td>0</td>\n",
       "      <td>0</td>\n",
       "      <td>1</td>\n",
       "      <td>0</td>\n",
       "    </tr>\n",
       "    <tr>\n",
       "      <th>3</th>\n",
       "      <td>206602.0</td>\n",
       "      <td>7290.0</td>\n",
       "      <td>896857.0</td>\n",
       "      <td>1</td>\n",
       "      <td>3</td>\n",
       "      <td>16367.74</td>\n",
       "      <td>17.3</td>\n",
       "      <td>6.0</td>\n",
       "      <td>0.0</td>\n",
       "      <td>215308.0</td>\n",
       "      <td>272448.0</td>\n",
       "      <td>0.0</td>\n",
       "      <td>0.0</td>\n",
       "      <td>0</td>\n",
       "      <td>1</td>\n",
       "      <td>0</td>\n",
       "      <td>1</td>\n",
       "      <td>0</td>\n",
       "      <td>0</td>\n",
       "    </tr>\n",
       "    <tr>\n",
       "      <th>4</th>\n",
       "      <td>217646.0</td>\n",
       "      <td>730.0</td>\n",
       "      <td>1184194.0</td>\n",
       "      <td>10</td>\n",
       "      <td>3</td>\n",
       "      <td>10855.08</td>\n",
       "      <td>19.6</td>\n",
       "      <td>13.0</td>\n",
       "      <td>1.0</td>\n",
       "      <td>122170.0</td>\n",
       "      <td>272052.0</td>\n",
       "      <td>1.0</td>\n",
       "      <td>0.0</td>\n",
       "      <td>0</td>\n",
       "      <td>1</td>\n",
       "      <td>0</td>\n",
       "      <td>1</td>\n",
       "      <td>0</td>\n",
       "      <td>0</td>\n",
       "    </tr>\n",
       "  </tbody>\n",
       "</table>\n",
       "</div>"
      ],
      "text/plain": [
       "   Current Loan Amount  Credit Score  Annual Income  Years in current job  \\\n",
       "0             445412.0         709.0      1167493.0                     8   \n",
       "1           99999999.0         741.0      2231892.0                     8   \n",
       "2             347666.0         721.0       806949.0                     3   \n",
       "3             206602.0        7290.0       896857.0                     1   \n",
       "4             217646.0         730.0      1184194.0                    10   \n",
       "\n",
       "   Purpose  Monthly Debt  Years of Credit History  Number of Open Accounts  \\\n",
       "0        5       5214.74                     17.2                      6.0   \n",
       "1        3      29200.53                     14.9                     18.0   \n",
       "2        3       8741.90                     12.0                      9.0   \n",
       "3        3      16367.74                     17.3                      6.0   \n",
       "4        3      10855.08                     19.6                     13.0   \n",
       "\n",
       "   Number of Credit Problems  Current Credit Balance  Maximum Open Credit  \\\n",
       "0                        1.0                228190.0             416746.0   \n",
       "1                        1.0                297996.0             750090.0   \n",
       "2                        0.0                256329.0             386958.0   \n",
       "3                        0.0                215308.0             272448.0   \n",
       "4                        1.0                122170.0             272052.0   \n",
       "\n",
       "   Bankruptcies  Tax Liens  Term_Long Term  Term_Short Term  \\\n",
       "0           1.0        0.0               0                1   \n",
       "1           0.0        0.0               0                1   \n",
       "2           0.0        0.0               1                0   \n",
       "3           0.0        0.0               0                1   \n",
       "4           1.0        0.0               0                1   \n",
       "\n",
       "   Home Ownership_HaveMortgage  Home Ownership_Home Mortgage  \\\n",
       "0                            0                             1   \n",
       "1                            0                             0   \n",
       "2                            0                             0   \n",
       "3                            0                             1   \n",
       "4                            0                             1   \n",
       "\n",
       "   Home Ownership_Own Home  Home Ownership_Rent  \n",
       "0                        0                    0  \n",
       "1                        1                    0  \n",
       "2                        1                    0  \n",
       "3                        0                    0  \n",
       "4                        0                    0  "
      ]
     },
     "execution_count": 61,
     "metadata": {},
     "output_type": "execute_result"
    }
   ],
   "source": [
    "df_with_dummies.head()"
   ]
  },
  {
   "cell_type": "code",
   "execution_count": 62,
   "metadata": {},
   "outputs": [],
   "source": [
    "# Defining features and target values\n",
    "X = df_with_dummies.copy()\n",
    "y = target"
   ]
  },
  {
   "cell_type": "code",
   "execution_count": 63,
   "metadata": {},
   "outputs": [
    {
     "name": "stdout",
     "output_type": "stream",
     "text": [
      "X_train shape (56504, 19)\n",
      "y_train shape (56504,)\n",
      "X_valid shape (14126, 19)\n",
      "y_valid shape (14126,)\n",
      "\n",
      "ratio of target in y_train : [0.75633583 0.24366417]\n",
      "ratio of target in y_valid : [0.75633583 0.24366417]\n",
      "ratio of target in original_data : [0.76965398 0.22523231]\n"
     ]
    }
   ],
   "source": [
    "'''\n",
    "We will use StratifiedShuffleSplit to split the data \n",
    "taking into consideration that we will get the same ratio on the target column\n",
    "'''\n",
    "from sklearn.model_selection import StratifiedShuffleSplit\n",
    "\n",
    "sss = StratifiedShuffleSplit(n_splits=5, test_size=0.2, random_state=42)\n",
    "\n",
    "# sss.get_n_splits(X, y)\n",
    "\n",
    "for train, test in sss.split(X, y):\n",
    "    X_train, X_valid = X.iloc[train], X.iloc[test]\n",
    "    y_train, y_valid = y.iloc[train], y.iloc[test]\n",
    "    \n",
    "print('X_train shape', X_train.shape)\n",
    "print('y_train shape', y_train.shape)\n",
    "print('X_valid shape', X_valid.shape)\n",
    "print('y_valid shape', y_valid.shape)\n",
    "\n",
    "# almost same ratio\n",
    "print('\\nratio of target in y_train :',y_train.value_counts().values/ len(y_train))\n",
    "print('ratio of target in y_valid :',y_valid.value_counts().values/ len(y_valid))\n",
    "print('ratio of target in original_data :',df['Loan Status'].value_counts().values/ len(df))"
   ]
  },
  {
   "cell_type": "code",
   "execution_count": 64,
   "metadata": {},
   "outputs": [],
   "source": [
    "# from sklearn.model_selection import train_test_split\n",
    "# X_train, X_valid, y_train, y_valid = train_test_split(X, y, test_size = 0.4, random_state = 42)"
   ]
  },
  {
   "cell_type": "code",
   "execution_count": 65,
   "metadata": {},
   "outputs": [
    {
     "data": {
      "text/html": [
       "<div>\n",
       "<style scoped>\n",
       "    .dataframe tbody tr th:only-of-type {\n",
       "        vertical-align: middle;\n",
       "    }\n",
       "\n",
       "    .dataframe tbody tr th {\n",
       "        vertical-align: top;\n",
       "    }\n",
       "\n",
       "    .dataframe thead th {\n",
       "        text-align: right;\n",
       "    }\n",
       "</style>\n",
       "<table border=\"1\" class=\"dataframe\">\n",
       "  <thead>\n",
       "    <tr style=\"text-align: right;\">\n",
       "      <th></th>\n",
       "      <th>Current Loan Amount</th>\n",
       "      <th>Credit Score</th>\n",
       "      <th>Annual Income</th>\n",
       "      <th>Years in current job</th>\n",
       "      <th>Purpose</th>\n",
       "      <th>Monthly Debt</th>\n",
       "      <th>Years of Credit History</th>\n",
       "      <th>Number of Open Accounts</th>\n",
       "      <th>Number of Credit Problems</th>\n",
       "      <th>Current Credit Balance</th>\n",
       "      <th>Maximum Open Credit</th>\n",
       "      <th>Bankruptcies</th>\n",
       "      <th>Tax Liens</th>\n",
       "      <th>Term_Long Term</th>\n",
       "      <th>Term_Short Term</th>\n",
       "      <th>Home Ownership_HaveMortgage</th>\n",
       "      <th>Home Ownership_Home Mortgage</th>\n",
       "      <th>Home Ownership_Own Home</th>\n",
       "      <th>Home Ownership_Rent</th>\n",
       "    </tr>\n",
       "  </thead>\n",
       "  <tbody>\n",
       "    <tr>\n",
       "      <th>39287</th>\n",
       "      <td>134750.0</td>\n",
       "      <td>711.0</td>\n",
       "      <td>471295.0</td>\n",
       "      <td>9</td>\n",
       "      <td>7</td>\n",
       "      <td>9779.68</td>\n",
       "      <td>12.0</td>\n",
       "      <td>8.0</td>\n",
       "      <td>0.0</td>\n",
       "      <td>148086.0</td>\n",
       "      <td>226798.0</td>\n",
       "      <td>0.0</td>\n",
       "      <td>0.0</td>\n",
       "      <td>0</td>\n",
       "      <td>1</td>\n",
       "      <td>0</td>\n",
       "      <td>0</td>\n",
       "      <td>0</td>\n",
       "      <td>1</td>\n",
       "    </tr>\n",
       "    <tr>\n",
       "      <th>31861</th>\n",
       "      <td>150986.0</td>\n",
       "      <td>736.0</td>\n",
       "      <td>685786.0</td>\n",
       "      <td>0</td>\n",
       "      <td>3</td>\n",
       "      <td>3811.78</td>\n",
       "      <td>7.1</td>\n",
       "      <td>5.0</td>\n",
       "      <td>0.0</td>\n",
       "      <td>222015.0</td>\n",
       "      <td>610632.0</td>\n",
       "      <td>0.0</td>\n",
       "      <td>0.0</td>\n",
       "      <td>0</td>\n",
       "      <td>1</td>\n",
       "      <td>0</td>\n",
       "      <td>0</td>\n",
       "      <td>1</td>\n",
       "      <td>0</td>\n",
       "    </tr>\n",
       "    <tr>\n",
       "      <th>27675</th>\n",
       "      <td>286220.0</td>\n",
       "      <td>737.0</td>\n",
       "      <td>2298088.0</td>\n",
       "      <td>1</td>\n",
       "      <td>3</td>\n",
       "      <td>29683.51</td>\n",
       "      <td>23.0</td>\n",
       "      <td>13.0</td>\n",
       "      <td>0.0</td>\n",
       "      <td>438596.0</td>\n",
       "      <td>730730.0</td>\n",
       "      <td>0.0</td>\n",
       "      <td>0.0</td>\n",
       "      <td>0</td>\n",
       "      <td>1</td>\n",
       "      <td>0</td>\n",
       "      <td>0</td>\n",
       "      <td>0</td>\n",
       "      <td>1</td>\n",
       "    </tr>\n",
       "    <tr>\n",
       "      <th>52731</th>\n",
       "      <td>92268.0</td>\n",
       "      <td>746.0</td>\n",
       "      <td>674975.0</td>\n",
       "      <td>9</td>\n",
       "      <td>3</td>\n",
       "      <td>10012.05</td>\n",
       "      <td>18.7</td>\n",
       "      <td>3.0</td>\n",
       "      <td>0.0</td>\n",
       "      <td>75810.0</td>\n",
       "      <td>251504.0</td>\n",
       "      <td>0.0</td>\n",
       "      <td>0.0</td>\n",
       "      <td>0</td>\n",
       "      <td>1</td>\n",
       "      <td>0</td>\n",
       "      <td>0</td>\n",
       "      <td>0</td>\n",
       "      <td>1</td>\n",
       "    </tr>\n",
       "    <tr>\n",
       "      <th>30986</th>\n",
       "      <td>297176.0</td>\n",
       "      <td>721.0</td>\n",
       "      <td>722437.0</td>\n",
       "      <td>1</td>\n",
       "      <td>3</td>\n",
       "      <td>7465.29</td>\n",
       "      <td>16.6</td>\n",
       "      <td>8.0</td>\n",
       "      <td>0.0</td>\n",
       "      <td>68381.0</td>\n",
       "      <td>321882.0</td>\n",
       "      <td>0.0</td>\n",
       "      <td>0.0</td>\n",
       "      <td>1</td>\n",
       "      <td>0</td>\n",
       "      <td>0</td>\n",
       "      <td>1</td>\n",
       "      <td>0</td>\n",
       "      <td>0</td>\n",
       "    </tr>\n",
       "  </tbody>\n",
       "</table>\n",
       "</div>"
      ],
      "text/plain": [
       "       Current Loan Amount  Credit Score  Annual Income  Years in current job  \\\n",
       "39287             134750.0         711.0       471295.0                     9   \n",
       "31861             150986.0         736.0       685786.0                     0   \n",
       "27675             286220.0         737.0      2298088.0                     1   \n",
       "52731              92268.0         746.0       674975.0                     9   \n",
       "30986             297176.0         721.0       722437.0                     1   \n",
       "\n",
       "       Purpose  Monthly Debt  Years of Credit History  \\\n",
       "39287        7       9779.68                     12.0   \n",
       "31861        3       3811.78                      7.1   \n",
       "27675        3      29683.51                     23.0   \n",
       "52731        3      10012.05                     18.7   \n",
       "30986        3       7465.29                     16.6   \n",
       "\n",
       "       Number of Open Accounts  Number of Credit Problems  \\\n",
       "39287                      8.0                        0.0   \n",
       "31861                      5.0                        0.0   \n",
       "27675                     13.0                        0.0   \n",
       "52731                      3.0                        0.0   \n",
       "30986                      8.0                        0.0   \n",
       "\n",
       "       Current Credit Balance  Maximum Open Credit  Bankruptcies  Tax Liens  \\\n",
       "39287                148086.0             226798.0           0.0        0.0   \n",
       "31861                222015.0             610632.0           0.0        0.0   \n",
       "27675                438596.0             730730.0           0.0        0.0   \n",
       "52731                 75810.0             251504.0           0.0        0.0   \n",
       "30986                 68381.0             321882.0           0.0        0.0   \n",
       "\n",
       "       Term_Long Term  Term_Short Term  Home Ownership_HaveMortgage  \\\n",
       "39287               0                1                            0   \n",
       "31861               0                1                            0   \n",
       "27675               0                1                            0   \n",
       "52731               0                1                            0   \n",
       "30986               1                0                            0   \n",
       "\n",
       "       Home Ownership_Home Mortgage  Home Ownership_Own Home  \\\n",
       "39287                             0                        0   \n",
       "31861                             0                        1   \n",
       "27675                             0                        0   \n",
       "52731                             0                        0   \n",
       "30986                             1                        0   \n",
       "\n",
       "       Home Ownership_Rent  \n",
       "39287                    1  \n",
       "31861                    0  \n",
       "27675                    1  \n",
       "52731                    1  \n",
       "30986                    0  "
      ]
     },
     "execution_count": 65,
     "metadata": {},
     "output_type": "execute_result"
    }
   ],
   "source": [
    "X.sample(5)"
   ]
  },
  {
   "cell_type": "code",
   "execution_count": 66,
   "metadata": {},
   "outputs": [],
   "source": [
    "# categorical_features_indices = np.where(X.dtypes == np.object )[0]\n",
    "# categorical_features_indices"
   ]
  },
  {
   "cell_type": "code",
   "execution_count": 67,
   "metadata": {},
   "outputs": [],
   "source": [
    "# Importing necessary libraries related to ML models\n",
    "from sklearn.linear_model import LogisticRegression\n",
    "from xgboost import XGBClassifier\n",
    "from sklearn.ensemble import BaggingClassifier\n",
    "from sklearn.svm import SVC\n",
    "from sklearn.neighbors import KNeighborsClassifier\n",
    "from sklearn.tree import DecisionTreeClassifier\n",
    "from sklearn.ensemble import RandomForestClassifier"
   ]
  },
  {
   "cell_type": "code",
   "execution_count": 68,
   "metadata": {},
   "outputs": [],
   "source": [
    "# defining dictionary of models\n",
    "models = {\n",
    "    'LogisticRegression': LogisticRegression(random_state=42),\n",
    "    'KNeighborsClassifier': KNeighborsClassifier(),\n",
    "#     'RandomForestClassifier': RandomForestClassifier(n_estimators = 100, random_state =50, max_features= \"sqrt\"),\n",
    "#     'XGBClassifier': XGBClassifier(objective = 'binary:logistic'),\n",
    "#     'SVC': BaggingClassifier(base_estimator=SVC(), n_estimators=10, random_state=0, n_jobs=2)\n",
    "#     'DecisionTreeClassifier': DecisionTreeClassifier(max_depth=1, random_state=42)\n",
    "}"
   ]
  },
  {
   "cell_type": "code",
   "execution_count": 69,
   "metadata": {},
   "outputs": [],
   "source": [
    "# We will measure the loss using methods and function below\n",
    "from sklearn.metrics import precision_score, recall_score, f1_score, log_loss, accuracy_score\n",
    "\n",
    "def loss(y_true, y_pred, retu=False):\n",
    "    pre = precision_score(y_true, y_pred)\n",
    "    rec = recall_score(y_true, y_pred)\n",
    "    f1 = f1_score(y_true, y_pred)\n",
    "    loss = log_loss(y_true, y_pred)\n",
    "    acc = accuracy_score(y_true, y_pred)\n",
    "    \n",
    "    if retu:\n",
    "        return pre, rec, f1, loss, acc\n",
    "    else:\n",
    "        print('  pre: %.3f\\n  rec: %.3f\\n  f1: %.3f\\n  loss: %.3f\\n  acc: %.3f' % (pre, rec, f1, loss, acc))"
   ]
  },
  {
   "cell_type": "code",
   "execution_count": 70,
   "metadata": {},
   "outputs": [
    {
     "name": "stdout",
     "output_type": "stream",
     "text": [
      "LogisticRegression :\n"
     ]
    },
    {
     "name": "stderr",
     "output_type": "stream",
     "text": [
      "C:\\Users\\User\\Anaconda3\\lib\\site-packages\\sklearn\\linear_model\\logistic.py:432: FutureWarning: Default solver will be changed to 'lbfgs' in 0.22. Specify a solver to silence this warning.\n",
      "  FutureWarning)\n"
     ]
    },
    {
     "name": "stdout",
     "output_type": "stream",
     "text": [
      "  pre: 0.894\n",
      "  rec: 0.270\n",
      "  f1: 0.415\n",
      "  loss: 6.414\n",
      "  acc: 0.814\n",
      "------------------------------\n",
      "KNeighborsClassifier :\n",
      "  pre: 0.652\n",
      "  rec: 0.366\n",
      "  f1: 0.468\n",
      "  loss: 6.983\n",
      "  acc: 0.798\n",
      "------------------------------\n"
     ]
    },
    {
     "data": {
      "text/plain": [
       "'\\nwe can see that best model is LogisticRegression at least for now,\\nRandom Forest is just memorizing the data so it is overfitting .\\n'"
      ]
     },
     "execution_count": 70,
     "metadata": {},
     "output_type": "execute_result"
    }
   ],
   "source": [
    "# Function that trains the model\n",
    "def train_eval_train(models, X, y):\n",
    "    for name, model in models.items():\n",
    "        print(name,':')\n",
    "        model.fit(X, y)\n",
    "        loss(y, model.predict(X))\n",
    "        print('-'*30)\n",
    "        \n",
    "train_eval_train(models, X_train, y_train)\n",
    "\n",
    "'''\n",
    "we can see that best model is LogisticRegression at least for now,\n",
    "Random Forest is just memorizing the data so it is overfitting .\n",
    "'''"
   ]
  },
  {
   "cell_type": "code",
   "execution_count": 71,
   "metadata": {},
   "outputs": [],
   "source": [
    "# from sklearn.model_selection import StratifiedKFold\n",
    "# skf = StratifiedKFold(n_splits=10, random_state=42, shuffle=True)\n",
    "\n",
    "# def train_eval_cross(models, X, y, folds):\n",
    "#     # we will change X & y to dataframe because we will use iloc (iloc don't work on numpy array)\n",
    "#     X = pd.DataFrame(X) \n",
    "#     y = pd.DataFrame(y)\n",
    "#     idx = [' pre', ' rec', ' f1', ' loss', ' acc']\n",
    "#     for name, model in models.items():\n",
    "#         ls = []\n",
    "#         print(name,':')\n",
    "\n",
    "#         for train, test in folds.split(X, y):\n",
    "#             model.fit(X.iloc[train], y.iloc[train]) \n",
    "#             y_pred = model.predict(X.iloc[test]) \n",
    "#             ls.append(loss(y.iloc[test], y_pred, retu=True))\n",
    "#         print(pd.DataFrame(np.array(ls).mean(axis=0), index=idx)[0])  #[0] because we don't want to show the name of the column\n",
    "#         print('-'*30)\n",
    "        \n",
    "# train_eval_cross(models, X_train, y_train, skf)\n"
   ]
  },
  {
   "cell_type": "code",
   "execution_count": 72,
   "metadata": {},
   "outputs": [
    {
     "data": {
      "text/plain": [
       "<matplotlib.axes._subplots.AxesSubplot at 0x12dd5d08>"
      ]
     },
     "execution_count": 72,
     "metadata": {},
     "output_type": "execute_result"
    },
    {
     "data": {
      "image/png": "[encoded data removed]",
      "text/plain": [
       "<Figure size 1500x700 with 2 Axes>"
      ]
     },
     "metadata": {},
     "output_type": "display_data"
    }
   ],
   "source": [
    "# Pearson graph which shows correlation map between features\n",
    "data_corr = pd.concat([X_train, y_train], axis=1)\n",
    "corr = data_corr.corr()\n",
    "plt.figure(figsize=(15,7))\n",
    "sns.heatmap(corr, annot=True)\n",
    "# data_corr"
   ]
  },
  {
   "cell_type": "code",
   "execution_count": 73,
   "metadata": {},
   "outputs": [],
   "source": [
    "# Remove redundant features\n",
    "X_train_selected = X_train.copy()\n",
    "X_test_selected = df_test_with_dummies.copy()\n",
    "X_train_selected.drop(['Purpose', 'Term_Short Term', 'Home Ownership_Home Mortgage'], axis=1, inplace=True)\n",
    "X_test_selected.drop(['Purpose', 'Term_Short Term', 'Home Ownership_Home Mortgage'], axis=1, inplace=True)"
   ]
  },
  {
   "cell_type": "code",
   "execution_count": 74,
   "metadata": {},
   "outputs": [
    {
     "name": "stdout",
     "output_type": "stream",
     "text": [
      "LogisticRegression :\n"
     ]
    },
    {
     "name": "stderr",
     "output_type": "stream",
     "text": [
      "C:\\Users\\User\\Anaconda3\\lib\\site-packages\\sklearn\\linear_model\\logistic.py:432: FutureWarning: Default solver will be changed to 'lbfgs' in 0.22. Specify a solver to silence this warning.\n",
      "  FutureWarning)\n"
     ]
    },
    {
     "name": "stdout",
     "output_type": "stream",
     "text": [
      "  pre: 0.894\n",
      "  rec: 0.270\n",
      "  f1: 0.415\n",
      "  loss: 6.414\n",
      "  acc: 0.814\n",
      "------------------------------\n",
      "KNeighborsClassifier :\n",
      "  pre: 0.652\n",
      "  rec: 0.366\n",
      "  f1: 0.468\n",
      "  loss: 6.983\n",
      "  acc: 0.798\n",
      "------------------------------\n"
     ]
    }
   ],
   "source": [
    "# Training\n",
    "train_eval_train(models, X_train_selected, y_train)\n",
    "# No improvement for now..."
   ]
  },
  {
   "cell_type": "code",
   "execution_count": 75,
   "metadata": {},
   "outputs": [
    {
     "name": "stderr",
     "output_type": "stream",
     "text": [
      "C:\\Users\\User\\Anaconda3\\lib\\site-packages\\pandas_profiling\\describe.py:392: FutureWarning: The join_axes-keyword is deprecated. Use .reindex or .reindex_like on the result to achieve the same functionality.\n",
      "  variable_stats = pd.concat(ldesc, join_axes=pd.Index([names]), axis=1)\n"
     ]
    }
   ],
   "source": [
    "profile2 = ProfileReport(pd.concat([X_train_selected, y_train], axis=1))"
   ]
  },
  {
   "cell_type": "code",
   "execution_count": 76,
   "metadata": {},
   "outputs": [],
   "source": [
    "profile2.to_file(\"report_after_cleaning.html\")"
   ]
  },
  {
   "cell_type": "code",
   "execution_count": 77,
   "metadata": {},
   "outputs": [
    {
     "name": "stderr",
     "output_type": "stream",
     "text": [
      "C:\\Users\\User\\Anaconda3\\lib\\site-packages\\pandas\\core\\series.py:853: RuntimeWarning: divide by zero encountered in log\n",
      "  result = getattr(ufunc, method)(*inputs, **kwargs)\n"
     ]
    },
    {
     "data": {
      "text/plain": [
       "Text(0.5, 1.0, 'Annual Income after log')"
      ]
     },
     "execution_count": 77,
     "metadata": {},
     "output_type": "execute_result"
    },
    {
     "data": {
      "image/png": "[encoded data removed]",
      "text/plain": [
       "<Figure size 2000x1500 with 4 Axes>"
      ]
     },
     "metadata": {},
     "output_type": "display_data"
    }
   ],
   "source": [
    "'''\n",
    "we can see from overview that we've got 2 skewed features that needs to be normalised\n",
    "we can solve this problem with very simple statistical teqniq, by taking the logarithm of all the values\n",
    "because when data is normally distributed that will help improving our model\n",
    "'''\n",
    "from scipy.stats import norm\n",
    "\n",
    "fig, ax = plt.subplots(2,2,figsize=(20,15))\n",
    "\n",
    "sns.distplot(X_train_selected['Maximum Open Credit'], ax=ax[0][0], fit=norm)\n",
    "ax[0][0].set_title('Maximum Open Credit before log')\n",
    "\n",
    "# sns.distplot(X_train_selected['Current Credit Balance'], ax=ax[1][0], fit=norm)\n",
    "# ax[1][0].set_title('Current Credit Balance before log')\n",
    "\n",
    "sns.distplot(X_train_selected['Annual Income'], ax=ax[1][0], fit=norm)\n",
    "ax[1][0].set_title('Annual Income before log')\n",
    "\n",
    "# columns = ['Maximum Open Credit', 'Current Credit Balance', 'Annual Income', 'Current Loan Amount', 'Monthly Debt']\n",
    "columns = ['Maximum Open Credit', 'Annual Income']\n",
    "for column in columns:\n",
    "    X_train_selected[column] = np.log(X_train_selected[column])\n",
    "    X_test_selected[column] = np.log(X_test_selected[column])\n",
    "\n",
    "X_train_selected = X_train_selected.replace([np.inf, -np.inf, -0], 0)\n",
    "X_test_selected = X_test_selected.replace([np.inf, -np.inf, -0], 0)\n",
    "\n",
    "\n",
    "sns.distplot(X_train_selected['Maximum Open Credit'], ax=ax[0][1], fit=norm)\n",
    "ax[0][1].set_title('Maximum Open Credit after log')\n",
    "\n",
    "# sns.distplot(X_train_selected['Current Credit Balance'], ax=ax[1][1], fit=norm)\n",
    "# ax[1][1].set_title('Current Credit Balance after log')\n",
    "\n",
    "sns.distplot(X_train_selected['Annual Income'], ax=ax[1][1], fit=norm)\n",
    "ax[1][1].set_title('Annual Income after log')"
   ]
  },
  {
   "cell_type": "code",
   "execution_count": 78,
   "metadata": {},
   "outputs": [
    {
     "name": "stdout",
     "output_type": "stream",
     "text": [
      "LogisticRegression :\n"
     ]
    },
    {
     "name": "stderr",
     "output_type": "stream",
     "text": [
      "C:\\Users\\User\\Anaconda3\\lib\\site-packages\\sklearn\\linear_model\\logistic.py:432: FutureWarning: Default solver will be changed to 'lbfgs' in 0.22. Specify a solver to silence this warning.\n",
      "  FutureWarning)\n"
     ]
    },
    {
     "name": "stdout",
     "output_type": "stream",
     "text": [
      "  pre: 0.785\n",
      "  rec: 0.275\n",
      "  f1: 0.407\n",
      "  loss: 6.736\n",
      "  acc: 0.805\n",
      "------------------------------\n",
      "KNeighborsClassifier :\n",
      "  pre: 0.738\n",
      "  rec: 0.346\n",
      "  f1: 0.471\n",
      "  loss: 6.536\n",
      "  acc: 0.811\n",
      "------------------------------\n"
     ]
    },
    {
     "data": {
      "text/plain": [
       "' \\nwe can see that logistic regression model accuracy decreased,\\nbut also can notice that KNeighborsClassifier models improved\\n'"
      ]
     },
     "execution_count": 78,
     "metadata": {},
     "output_type": "execute_result"
    }
   ],
   "source": [
    "train_eval_train(models, X_train_selected, y_train)\n",
    "''' \n",
    "we can see that logistic regression model accuracy decreased,\n",
    "but also can notice that KNeighborsClassifier models improved\n",
    "'''"
   ]
  },
  {
   "cell_type": "code",
   "execution_count": 79,
   "metadata": {},
   "outputs": [],
   "source": [
    "# Now let's scale features\n",
    "from sklearn.preprocessing import StandardScaler"
   ]
  },
  {
   "cell_type": "code",
   "execution_count": 80,
   "metadata": {},
   "outputs": [],
   "source": [
    "# Scale both train and test datasets\n",
    "scale = StandardScaler().fit(X_train_selected)\n",
    "\n",
    "X_train_scaled = scale.transform(X_train_selected)\n",
    "X_test_scaled = scale.transform(X_test_selected)"
   ]
  },
  {
   "cell_type": "code",
   "execution_count": 81,
   "metadata": {},
   "outputs": [],
   "source": [
    "# Convert them back to dataframes as they were transformed into arrays\n",
    "X_train_scaled = pd.DataFrame(X_train_scaled, index=X_train_selected.index, columns=X_train_selected.columns)\n",
    "X_test_scaled = pd.DataFrame(X_test_scaled, index=X_test_selected.index, columns=X_test_selected.columns)"
   ]
  },
  {
   "cell_type": "code",
   "execution_count": 82,
   "metadata": {},
   "outputs": [
    {
     "data": {
      "text/html": [
       "<div>\n",
       "<style scoped>\n",
       "    .dataframe tbody tr th:only-of-type {\n",
       "        vertical-align: middle;\n",
       "    }\n",
       "\n",
       "    .dataframe tbody tr th {\n",
       "        vertical-align: top;\n",
       "    }\n",
       "\n",
       "    .dataframe thead th {\n",
       "        text-align: right;\n",
       "    }\n",
       "</style>\n",
       "<table border=\"1\" class=\"dataframe\">\n",
       "  <thead>\n",
       "    <tr style=\"text-align: right;\">\n",
       "      <th></th>\n",
       "      <th>Current Loan Amount</th>\n",
       "      <th>Credit Score</th>\n",
       "      <th>Annual Income</th>\n",
       "      <th>Years in current job</th>\n",
       "      <th>Monthly Debt</th>\n",
       "      <th>Years of Credit History</th>\n",
       "      <th>Number of Open Accounts</th>\n",
       "      <th>Number of Credit Problems</th>\n",
       "      <th>Current Credit Balance</th>\n",
       "      <th>Maximum Open Credit</th>\n",
       "      <th>Bankruptcies</th>\n",
       "      <th>Tax Liens</th>\n",
       "      <th>Term_Long Term</th>\n",
       "      <th>Home Ownership_HaveMortgage</th>\n",
       "      <th>Home Ownership_Own Home</th>\n",
       "      <th>Home Ownership_Rent</th>\n",
       "    </tr>\n",
       "  </thead>\n",
       "  <tbody>\n",
       "    <tr>\n",
       "      <th>12605</th>\n",
       "      <td>2.268547</td>\n",
       "      <td>-0.259624</td>\n",
       "      <td>1.419793</td>\n",
       "      <td>2.017570</td>\n",
       "      <td>-1.155740</td>\n",
       "      <td>0.145259</td>\n",
       "      <td>-0.823498</td>\n",
       "      <td>-0.34162</td>\n",
       "      <td>-0.369070</td>\n",
       "      <td>-0.285991</td>\n",
       "      <td>-0.331185</td>\n",
       "      <td>-0.111228</td>\n",
       "      <td>1.635414</td>\n",
       "      <td>-0.045746</td>\n",
       "      <td>-0.318871</td>\n",
       "      <td>-0.852922</td>\n",
       "    </tr>\n",
       "    <tr>\n",
       "      <th>15654</th>\n",
       "      <td>-0.443425</td>\n",
       "      <td>-0.267954</td>\n",
       "      <td>1.206138</td>\n",
       "      <td>-0.833051</td>\n",
       "      <td>1.259729</td>\n",
       "      <td>0.173650</td>\n",
       "      <td>1.161754</td>\n",
       "      <td>-0.34162</td>\n",
       "      <td>0.643667</td>\n",
       "      <td>0.318577</td>\n",
       "      <td>-0.331185</td>\n",
       "      <td>-0.111228</td>\n",
       "      <td>-0.611466</td>\n",
       "      <td>-0.045746</td>\n",
       "      <td>-0.318871</td>\n",
       "      <td>-0.852922</td>\n",
       "    </tr>\n",
       "    <tr>\n",
       "      <th>29782</th>\n",
       "      <td>-0.442844</td>\n",
       "      <td>-0.270517</td>\n",
       "      <td>-0.563729</td>\n",
       "      <td>0.433892</td>\n",
       "      <td>-1.316380</td>\n",
       "      <td>-1.373668</td>\n",
       "      <td>-1.022023</td>\n",
       "      <td>-0.34162</td>\n",
       "      <td>-0.553199</td>\n",
       "      <td>-0.490568</td>\n",
       "      <td>-0.331185</td>\n",
       "      <td>-0.111228</td>\n",
       "      <td>-0.611466</td>\n",
       "      <td>-0.045746</td>\n",
       "      <td>-0.318871</td>\n",
       "      <td>1.172440</td>\n",
       "    </tr>\n",
       "    <tr>\n",
       "      <th>14664</th>\n",
       "      <td>-0.446250</td>\n",
       "      <td>-0.249371</td>\n",
       "      <td>-0.925525</td>\n",
       "      <td>0.433892</td>\n",
       "      <td>-0.486993</td>\n",
       "      <td>-0.820041</td>\n",
       "      <td>-0.624973</td>\n",
       "      <td>-0.34162</td>\n",
       "      <td>-0.396224</td>\n",
       "      <td>-0.256731</td>\n",
       "      <td>-0.331185</td>\n",
       "      <td>-0.111228</td>\n",
       "      <td>-0.611466</td>\n",
       "      <td>-0.045746</td>\n",
       "      <td>-0.318871</td>\n",
       "      <td>-0.852922</td>\n",
       "    </tr>\n",
       "    <tr>\n",
       "      <th>48350</th>\n",
       "      <td>-0.445850</td>\n",
       "      <td>-0.254498</td>\n",
       "      <td>-1.891905</td>\n",
       "      <td>-1.149787</td>\n",
       "      <td>-1.340591</td>\n",
       "      <td>-1.245908</td>\n",
       "      <td>-1.419073</td>\n",
       "      <td>-0.34162</td>\n",
       "      <td>-0.673034</td>\n",
       "      <td>-1.203560</td>\n",
       "      <td>-0.331185</td>\n",
       "      <td>-0.111228</td>\n",
       "      <td>1.635414</td>\n",
       "      <td>-0.045746</td>\n",
       "      <td>3.136064</td>\n",
       "      <td>-0.852922</td>\n",
       "    </tr>\n",
       "    <tr>\n",
       "      <th>45979</th>\n",
       "      <td>-0.436747</td>\n",
       "      <td>-0.287819</td>\n",
       "      <td>-0.767417</td>\n",
       "      <td>0.433892</td>\n",
       "      <td>-0.512456</td>\n",
       "      <td>-0.578716</td>\n",
       "      <td>-1.220548</td>\n",
       "      <td>-0.34162</td>\n",
       "      <td>0.286378</td>\n",
       "      <td>0.124660</td>\n",
       "      <td>-0.331185</td>\n",
       "      <td>-0.111228</td>\n",
       "      <td>1.635414</td>\n",
       "      <td>-0.045746</td>\n",
       "      <td>-0.318871</td>\n",
       "      <td>1.172440</td>\n",
       "    </tr>\n",
       "    <tr>\n",
       "      <th>4875</th>\n",
       "      <td>-0.432833</td>\n",
       "      <td>4.052905</td>\n",
       "      <td>0.398979</td>\n",
       "      <td>-0.833051</td>\n",
       "      <td>0.323274</td>\n",
       "      <td>-0.181240</td>\n",
       "      <td>0.169128</td>\n",
       "      <td>-0.34162</td>\n",
       "      <td>0.782146</td>\n",
       "      <td>0.480833</td>\n",
       "      <td>-0.331185</td>\n",
       "      <td>-0.111228</td>\n",
       "      <td>-0.611466</td>\n",
       "      <td>-0.045746</td>\n",
       "      <td>-0.318871</td>\n",
       "      <td>-0.852922</td>\n",
       "    </tr>\n",
       "    <tr>\n",
       "      <th>38866</th>\n",
       "      <td>-0.442238</td>\n",
       "      <td>-0.244886</td>\n",
       "      <td>0.680921</td>\n",
       "      <td>-0.199580</td>\n",
       "      <td>0.160738</td>\n",
       "      <td>-0.110262</td>\n",
       "      <td>-0.823498</td>\n",
       "      <td>-0.34162</td>\n",
       "      <td>-0.613264</td>\n",
       "      <td>-0.371833</td>\n",
       "      <td>-0.331185</td>\n",
       "      <td>-0.111228</td>\n",
       "      <td>-0.611466</td>\n",
       "      <td>-0.045746</td>\n",
       "      <td>-0.318871</td>\n",
       "      <td>-0.852922</td>\n",
       "    </tr>\n",
       "    <tr>\n",
       "      <th>26508</th>\n",
       "      <td>-0.432615</td>\n",
       "      <td>-0.246808</td>\n",
       "      <td>1.697195</td>\n",
       "      <td>2.017570</td>\n",
       "      <td>0.881993</td>\n",
       "      <td>4.829800</td>\n",
       "      <td>0.764704</td>\n",
       "      <td>-0.34162</td>\n",
       "      <td>1.360065</td>\n",
       "      <td>0.828560</td>\n",
       "      <td>-0.331185</td>\n",
       "      <td>-0.111228</td>\n",
       "      <td>-0.611466</td>\n",
       "      <td>-0.045746</td>\n",
       "      <td>-0.318871</td>\n",
       "      <td>-0.852922</td>\n",
       "    </tr>\n",
       "    <tr>\n",
       "      <th>65262</th>\n",
       "      <td>-0.439910</td>\n",
       "      <td>-0.255779</td>\n",
       "      <td>1.124126</td>\n",
       "      <td>-0.833051</td>\n",
       "      <td>1.143093</td>\n",
       "      <td>-0.081871</td>\n",
       "      <td>0.169128</td>\n",
       "      <td>-0.34162</td>\n",
       "      <td>0.079177</td>\n",
       "      <td>0.123365</td>\n",
       "      <td>-0.331185</td>\n",
       "      <td>-0.111228</td>\n",
       "      <td>-0.611466</td>\n",
       "      <td>-0.045746</td>\n",
       "      <td>-0.318871</td>\n",
       "      <td>-0.852922</td>\n",
       "    </tr>\n",
       "  </tbody>\n",
       "</table>\n",
       "</div>"
      ],
      "text/plain": [
       "       Current Loan Amount  Credit Score  Annual Income  Years in current job  \\\n",
       "12605             2.268547     -0.259624       1.419793              2.017570   \n",
       "15654            -0.443425     -0.267954       1.206138             -0.833051   \n",
       "29782            -0.442844     -0.270517      -0.563729              0.433892   \n",
       "14664            -0.446250     -0.249371      -0.925525              0.433892   \n",
       "48350            -0.445850     -0.254498      -1.891905             -1.149787   \n",
       "45979            -0.436747     -0.287819      -0.767417              0.433892   \n",
       "4875             -0.432833      4.052905       0.398979             -0.833051   \n",
       "38866            -0.442238     -0.244886       0.680921             -0.199580   \n",
       "26508            -0.432615     -0.246808       1.697195              2.017570   \n",
       "65262            -0.439910     -0.255779       1.124126             -0.833051   \n",
       "\n",
       "       Monthly Debt  Years of Credit History  Number of Open Accounts  \\\n",
       "12605     -1.155740                 0.145259                -0.823498   \n",
       "15654      1.259729                 0.173650                 1.161754   \n",
       "29782     -1.316380                -1.373668                -1.022023   \n",
       "14664     -0.486993                -0.820041                -0.624973   \n",
       "48350     -1.340591                -1.245908                -1.419073   \n",
       "45979     -0.512456                -0.578716                -1.220548   \n",
       "4875       0.323274                -0.181240                 0.169128   \n",
       "38866      0.160738                -0.110262                -0.823498   \n",
       "26508      0.881993                 4.829800                 0.764704   \n",
       "65262      1.143093                -0.081871                 0.169128   \n",
       "\n",
       "       Number of Credit Problems  Current Credit Balance  Maximum Open Credit  \\\n",
       "12605                   -0.34162               -0.369070            -0.285991   \n",
       "15654                   -0.34162                0.643667             0.318577   \n",
       "29782                   -0.34162               -0.553199            -0.490568   \n",
       "14664                   -0.34162               -0.396224            -0.256731   \n",
       "48350                   -0.34162               -0.673034            -1.203560   \n",
       "45979                   -0.34162                0.286378             0.124660   \n",
       "4875                    -0.34162                0.782146             0.480833   \n",
       "38866                   -0.34162               -0.613264            -0.371833   \n",
       "26508                   -0.34162                1.360065             0.828560   \n",
       "65262                   -0.34162                0.079177             0.123365   \n",
       "\n",
       "       Bankruptcies  Tax Liens  Term_Long Term  Home Ownership_HaveMortgage  \\\n",
       "12605     -0.331185  -0.111228        1.635414                    -0.045746   \n",
       "15654     -0.331185  -0.111228       -0.611466                    -0.045746   \n",
       "29782     -0.331185  -0.111228       -0.611466                    -0.045746   \n",
       "14664     -0.331185  -0.111228       -0.611466                    -0.045746   \n",
       "48350     -0.331185  -0.111228        1.635414                    -0.045746   \n",
       "45979     -0.331185  -0.111228        1.635414                    -0.045746   \n",
       "4875      -0.331185  -0.111228       -0.611466                    -0.045746   \n",
       "38866     -0.331185  -0.111228       -0.611466                    -0.045746   \n",
       "26508     -0.331185  -0.111228       -0.611466                    -0.045746   \n",
       "65262     -0.331185  -0.111228       -0.611466                    -0.045746   \n",
       "\n",
       "       Home Ownership_Own Home  Home Ownership_Rent  \n",
       "12605                -0.318871            -0.852922  \n",
       "15654                -0.318871            -0.852922  \n",
       "29782                -0.318871             1.172440  \n",
       "14664                -0.318871            -0.852922  \n",
       "48350                 3.136064            -0.852922  \n",
       "45979                -0.318871             1.172440  \n",
       "4875                 -0.318871            -0.852922  \n",
       "38866                -0.318871            -0.852922  \n",
       "26508                -0.318871            -0.852922  \n",
       "65262                -0.318871            -0.852922  "
      ]
     },
     "execution_count": 82,
     "metadata": {},
     "output_type": "execute_result"
    }
   ],
   "source": [
    "X_train_scaled.sample(10)"
   ]
  },
  {
   "cell_type": "code",
   "execution_count": 83,
   "metadata": {},
   "outputs": [
    {
     "data": {
      "text/html": [
       "<div>\n",
       "<style scoped>\n",
       "    .dataframe tbody tr th:only-of-type {\n",
       "        vertical-align: middle;\n",
       "    }\n",
       "\n",
       "    .dataframe tbody tr th {\n",
       "        vertical-align: top;\n",
       "    }\n",
       "\n",
       "    .dataframe thead th {\n",
       "        text-align: right;\n",
       "    }\n",
       "</style>\n",
       "<table border=\"1\" class=\"dataframe\">\n",
       "  <thead>\n",
       "    <tr style=\"text-align: right;\">\n",
       "      <th></th>\n",
       "      <th>Current Loan Amount</th>\n",
       "      <th>Credit Score</th>\n",
       "      <th>Annual Income</th>\n",
       "      <th>Years in current job</th>\n",
       "      <th>Monthly Debt</th>\n",
       "      <th>Years of Credit History</th>\n",
       "      <th>Number of Open Accounts</th>\n",
       "      <th>Number of Credit Problems</th>\n",
       "      <th>Current Credit Balance</th>\n",
       "      <th>Maximum Open Credit</th>\n",
       "      <th>Bankruptcies</th>\n",
       "      <th>Tax Liens</th>\n",
       "      <th>Term_Long Term</th>\n",
       "      <th>Home Ownership_HaveMortgage</th>\n",
       "      <th>Home Ownership_Own Home</th>\n",
       "      <th>Home Ownership_Rent</th>\n",
       "    </tr>\n",
       "  </thead>\n",
       "  <tbody>\n",
       "    <tr>\n",
       "      <th>4896</th>\n",
       "      <td>-0.443411</td>\n",
       "      <td>-0.299353</td>\n",
       "      <td>0.188804</td>\n",
       "      <td>-0.833051</td>\n",
       "      <td>0.889541</td>\n",
       "      <td>-1.174930</td>\n",
       "      <td>2.749955</td>\n",
       "      <td>3.817592</td>\n",
       "      <td>-0.307480</td>\n",
       "      <td>0.369609</td>\n",
       "      <td>2.553389</td>\n",
       "      <td>3.758475</td>\n",
       "      <td>-0.611466</td>\n",
       "      <td>-0.045746</td>\n",
       "      <td>-0.318871</td>\n",
       "      <td>1.172440</td>\n",
       "    </tr>\n",
       "    <tr>\n",
       "      <th>1892</th>\n",
       "      <td>-0.446913</td>\n",
       "      <td>-0.246808</td>\n",
       "      <td>-0.406509</td>\n",
       "      <td>-0.516315</td>\n",
       "      <td>-0.567783</td>\n",
       "      <td>0.386584</td>\n",
       "      <td>-0.029397</td>\n",
       "      <td>-0.341620</td>\n",
       "      <td>0.003321</td>\n",
       "      <td>0.053991</td>\n",
       "      <td>-0.331185</td>\n",
       "      <td>-0.111228</td>\n",
       "      <td>-0.611466</td>\n",
       "      <td>-0.045746</td>\n",
       "      <td>-0.318871</td>\n",
       "      <td>1.172440</td>\n",
       "    </tr>\n",
       "    <tr>\n",
       "      <th>5388</th>\n",
       "      <td>2.268547</td>\n",
       "      <td>-0.285896</td>\n",
       "      <td>-1.743858</td>\n",
       "      <td>-0.833051</td>\n",
       "      <td>-0.869067</td>\n",
       "      <td>-0.820041</td>\n",
       "      <td>-0.823498</td>\n",
       "      <td>-0.341620</td>\n",
       "      <td>-0.179283</td>\n",
       "      <td>0.137489</td>\n",
       "      <td>-0.331185</td>\n",
       "      <td>-0.111228</td>\n",
       "      <td>1.635414</td>\n",
       "      <td>-0.045746</td>\n",
       "      <td>3.136064</td>\n",
       "      <td>-0.852922</td>\n",
       "    </tr>\n",
       "    <tr>\n",
       "      <th>7093</th>\n",
       "      <td>-0.437656</td>\n",
       "      <td>3.277547</td>\n",
       "      <td>0.932467</td>\n",
       "      <td>-0.833051</td>\n",
       "      <td>1.088940</td>\n",
       "      <td>0.670495</td>\n",
       "      <td>-0.029397</td>\n",
       "      <td>-0.341620</td>\n",
       "      <td>0.165117</td>\n",
       "      <td>0.319712</td>\n",
       "      <td>-0.331185</td>\n",
       "      <td>-0.111228</td>\n",
       "      <td>1.635414</td>\n",
       "      <td>-0.045746</td>\n",
       "      <td>-0.318871</td>\n",
       "      <td>-0.852922</td>\n",
       "    </tr>\n",
       "    <tr>\n",
       "      <th>1509</th>\n",
       "      <td>-0.428505</td>\n",
       "      <td>-0.287819</td>\n",
       "      <td>3.961061</td>\n",
       "      <td>0.117156</td>\n",
       "      <td>7.033839</td>\n",
       "      <td>-0.238022</td>\n",
       "      <td>-1.419073</td>\n",
       "      <td>-0.341620</td>\n",
       "      <td>-0.522601</td>\n",
       "      <td>-0.370145</td>\n",
       "      <td>-0.331185</td>\n",
       "      <td>-0.111228</td>\n",
       "      <td>1.635414</td>\n",
       "      <td>-0.045746</td>\n",
       "      <td>-0.318871</td>\n",
       "      <td>-0.852922</td>\n",
       "    </tr>\n",
       "    <tr>\n",
       "      <th>7850</th>\n",
       "      <td>-0.446004</td>\n",
       "      <td>-0.254498</td>\n",
       "      <td>-0.085155</td>\n",
       "      <td>1.384098</td>\n",
       "      <td>0.529047</td>\n",
       "      <td>0.556931</td>\n",
       "      <td>-0.624973</td>\n",
       "      <td>-0.341620</td>\n",
       "      <td>-0.079667</td>\n",
       "      <td>-0.176048</td>\n",
       "      <td>-0.331185</td>\n",
       "      <td>-0.111228</td>\n",
       "      <td>-0.611466</td>\n",
       "      <td>-0.045746</td>\n",
       "      <td>-0.318871</td>\n",
       "      <td>-0.852922</td>\n",
       "    </tr>\n",
       "    <tr>\n",
       "      <th>3522</th>\n",
       "      <td>-0.434583</td>\n",
       "      <td>-0.280129</td>\n",
       "      <td>-0.128854</td>\n",
       "      <td>-0.833051</td>\n",
       "      <td>1.101907</td>\n",
       "      <td>-0.379978</td>\n",
       "      <td>0.963229</td>\n",
       "      <td>-0.341620</td>\n",
       "      <td>0.238759</td>\n",
       "      <td>0.580674</td>\n",
       "      <td>-0.331185</td>\n",
       "      <td>-0.111228</td>\n",
       "      <td>1.635414</td>\n",
       "      <td>-0.045746</td>\n",
       "      <td>-0.318871</td>\n",
       "      <td>1.172440</td>\n",
       "    </tr>\n",
       "    <tr>\n",
       "      <th>4038</th>\n",
       "      <td>-0.439170</td>\n",
       "      <td>-0.244245</td>\n",
       "      <td>0.684341</td>\n",
       "      <td>0.433892</td>\n",
       "      <td>0.537863</td>\n",
       "      <td>-0.607107</td>\n",
       "      <td>0.764704</td>\n",
       "      <td>-0.341620</td>\n",
       "      <td>-0.173183</td>\n",
       "      <td>-0.080302</td>\n",
       "      <td>-0.331185</td>\n",
       "      <td>-0.111228</td>\n",
       "      <td>-0.611466</td>\n",
       "      <td>-0.045746</td>\n",
       "      <td>-0.318871</td>\n",
       "      <td>-0.852922</td>\n",
       "    </tr>\n",
       "    <tr>\n",
       "      <th>7594</th>\n",
       "      <td>-0.428801</td>\n",
       "      <td>-0.258342</td>\n",
       "      <td>0.427184</td>\n",
       "      <td>-0.833051</td>\n",
       "      <td>0.882134</td>\n",
       "      <td>1.933902</td>\n",
       "      <td>0.367653</td>\n",
       "      <td>-0.341620</td>\n",
       "      <td>0.963865</td>\n",
       "      <td>0.685933</td>\n",
       "      <td>-0.331185</td>\n",
       "      <td>-0.111228</td>\n",
       "      <td>1.635414</td>\n",
       "      <td>-0.045746</td>\n",
       "      <td>-0.318871</td>\n",
       "      <td>-0.852922</td>\n",
       "    </tr>\n",
       "    <tr>\n",
       "      <th>320</th>\n",
       "      <td>2.268547</td>\n",
       "      <td>-0.262187</td>\n",
       "      <td>-0.718246</td>\n",
       "      <td>-0.516315</td>\n",
       "      <td>0.316978</td>\n",
       "      <td>0.045890</td>\n",
       "      <td>0.169128</td>\n",
       "      <td>1.737986</td>\n",
       "      <td>-0.181546</td>\n",
       "      <td>-0.043003</td>\n",
       "      <td>2.553389</td>\n",
       "      <td>-0.111228</td>\n",
       "      <td>-0.611466</td>\n",
       "      <td>-0.045746</td>\n",
       "      <td>-0.318871</td>\n",
       "      <td>1.172440</td>\n",
       "    </tr>\n",
       "  </tbody>\n",
       "</table>\n",
       "</div>"
      ],
      "text/plain": [
       "      Current Loan Amount  Credit Score  Annual Income  Years in current job  \\\n",
       "4896            -0.443411     -0.299353       0.188804             -0.833051   \n",
       "1892            -0.446913     -0.246808      -0.406509             -0.516315   \n",
       "5388             2.268547     -0.285896      -1.743858             -0.833051   \n",
       "7093            -0.437656      3.277547       0.932467             -0.833051   \n",
       "1509            -0.428505     -0.287819       3.961061              0.117156   \n",
       "7850            -0.446004     -0.254498      -0.085155              1.384098   \n",
       "3522            -0.434583     -0.280129      -0.128854             -0.833051   \n",
       "4038            -0.439170     -0.244245       0.684341              0.433892   \n",
       "7594            -0.428801     -0.258342       0.427184             -0.833051   \n",
       "320              2.268547     -0.262187      -0.718246             -0.516315   \n",
       "\n",
       "      Monthly Debt  Years of Credit History  Number of Open Accounts  \\\n",
       "4896      0.889541                -1.174930                 2.749955   \n",
       "1892     -0.567783                 0.386584                -0.029397   \n",
       "5388     -0.869067                -0.820041                -0.823498   \n",
       "7093      1.088940                 0.670495                -0.029397   \n",
       "1509      7.033839                -0.238022                -1.419073   \n",
       "7850      0.529047                 0.556931                -0.624973   \n",
       "3522      1.101907                -0.379978                 0.963229   \n",
       "4038      0.537863                -0.607107                 0.764704   \n",
       "7594      0.882134                 1.933902                 0.367653   \n",
       "320       0.316978                 0.045890                 0.169128   \n",
       "\n",
       "      Number of Credit Problems  Current Credit Balance  Maximum Open Credit  \\\n",
       "4896                   3.817592               -0.307480             0.369609   \n",
       "1892                  -0.341620                0.003321             0.053991   \n",
       "5388                  -0.341620               -0.179283             0.137489   \n",
       "7093                  -0.341620                0.165117             0.319712   \n",
       "1509                  -0.341620               -0.522601            -0.370145   \n",
       "7850                  -0.341620               -0.079667            -0.176048   \n",
       "3522                  -0.341620                0.238759             0.580674   \n",
       "4038                  -0.341620               -0.173183            -0.080302   \n",
       "7594                  -0.341620                0.963865             0.685933   \n",
       "320                    1.737986               -0.181546            -0.043003   \n",
       "\n",
       "      Bankruptcies  Tax Liens  Term_Long Term  Home Ownership_HaveMortgage  \\\n",
       "4896      2.553389   3.758475       -0.611466                    -0.045746   \n",
       "1892     -0.331185  -0.111228       -0.611466                    -0.045746   \n",
       "5388     -0.331185  -0.111228        1.635414                    -0.045746   \n",
       "7093     -0.331185  -0.111228        1.635414                    -0.045746   \n",
       "1509     -0.331185  -0.111228        1.635414                    -0.045746   \n",
       "7850     -0.331185  -0.111228       -0.611466                    -0.045746   \n",
       "3522     -0.331185  -0.111228        1.635414                    -0.045746   \n",
       "4038     -0.331185  -0.111228       -0.611466                    -0.045746   \n",
       "7594     -0.331185  -0.111228        1.635414                    -0.045746   \n",
       "320       2.553389  -0.111228       -0.611466                    -0.045746   \n",
       "\n",
       "      Home Ownership_Own Home  Home Ownership_Rent  \n",
       "4896                -0.318871             1.172440  \n",
       "1892                -0.318871             1.172440  \n",
       "5388                 3.136064            -0.852922  \n",
       "7093                -0.318871            -0.852922  \n",
       "1509                -0.318871            -0.852922  \n",
       "7850                -0.318871            -0.852922  \n",
       "3522                -0.318871             1.172440  \n",
       "4038                -0.318871            -0.852922  \n",
       "7594                -0.318871            -0.852922  \n",
       "320                 -0.318871             1.172440  "
      ]
     },
     "execution_count": 83,
     "metadata": {},
     "output_type": "execute_result"
    }
   ],
   "source": [
    "X_test_scaled.sample(10)"
   ]
  },
  {
   "cell_type": "code",
   "execution_count": 84,
   "metadata": {},
   "outputs": [
    {
     "name": "stdout",
     "output_type": "stream",
     "text": [
      "LogisticRegression :\n"
     ]
    },
    {
     "name": "stderr",
     "output_type": "stream",
     "text": [
      "C:\\Users\\User\\Anaconda3\\lib\\site-packages\\sklearn\\linear_model\\logistic.py:432: FutureWarning: Default solver will be changed to 'lbfgs' in 0.22. Specify a solver to silence this warning.\n",
      "  FutureWarning)\n"
     ]
    },
    {
     "name": "stdout",
     "output_type": "stream",
     "text": [
      "  pre: 0.986\n",
      "  rec: 0.262\n",
      "  f1: 0.414\n",
      "  loss: 6.240\n",
      "  acc: 0.819\n",
      "------------------------------\n",
      "KNeighborsClassifier :\n",
      "  pre: 0.803\n",
      "  rec: 0.478\n",
      "  f1: 0.599\n",
      "  loss: 5.379\n",
      "  acc: 0.844\n",
      "------------------------------\n"
     ]
    }
   ],
   "source": [
    "train_eval_train(models, X_train_scaled, y_train)\n",
    "# We see significant change in the accuracy of both models"
   ]
  },
  {
   "cell_type": "code",
   "execution_count": 85,
   "metadata": {},
   "outputs": [],
   "source": [
    "# Let's apply MultiLayer Perceptron model and Grid Search for tuning parameters\n",
    "from sklearn.neural_network import MLPClassifier\n",
    "from sklearn.model_selection import GridSearchCV"
   ]
  },
  {
   "cell_type": "code",
   "execution_count": 86,
   "metadata": {},
   "outputs": [
    {
     "data": {
      "text/plain": [
       "GridSearchCV(cv=3, error_score='raise-deprecating',\n",
       "             estimator=MLPClassifier(activation='relu', alpha=0.0001,\n",
       "                                     batch_size='auto', beta_1=0.9,\n",
       "                                     beta_2=0.999, early_stopping=False,\n",
       "                                     epsilon=1e-08, hidden_layer_sizes=(100,),\n",
       "                                     learning_rate='constant',\n",
       "                                     learning_rate_init=0.005, max_iter=250,\n",
       "                                     momentum=0.9, n_iter_no_change=10,\n",
       "                                     nesterovs_momentum=True, power_t=0.5,\n",
       "                                     random_sta...\n",
       "                                     solver='adam', tol=0.0001,\n",
       "                                     validation_fraction=0.1, verbose=False,\n",
       "                                     warm_start=False),\n",
       "             iid='warn', n_jobs=-1,\n",
       "             param_grid={'activation': ['tanh', 'relu'],\n",
       "                         'alpha': [0.0001, 0.05],\n",
       "                         'hidden_layer_sizes': [(50, 100, 50), (100,),\n",
       "                                                (100, 75, 50, 25)],\n",
       "                         'learning_rate': ['constant', 'adaptive'],\n",
       "                         'solver': ['sgd', 'adam']},\n",
       "             pre_dispatch='2*n_jobs', refit=True, return_train_score=False,\n",
       "             scoring=None, verbose=0)"
      ]
     },
     "execution_count": 86,
     "metadata": {},
     "output_type": "execute_result"
    }
   ],
   "source": [
    "# Here we train our model using bunch of hyperparameters in order to determine the parameters that suit best for our model\n",
    "mlp = MLPClassifier(max_iter=250, learning_rate_init= 0.005)\n",
    "parameter_space = {\n",
    "    'hidden_layer_sizes': [(50,100,50), (100,), (100, 75, 50, 25)],\n",
    "    'activation': ['tanh', 'relu'],\n",
    "    'solver': ['sgd', 'adam'],\n",
    "    'alpha': [0.0001, 0.05],\n",
    "    'learning_rate': ['constant','adaptive'],\n",
    "}\n",
    "\n",
    "clf = GridSearchCV(mlp, parameter_space, n_jobs=-1, cv=3)\n",
    "clf.fit(X_train_scaled, y_train)\n",
    "# clf = MLPClassifier(hidden_layer_sizes = (100, 75, 50, 25), activation='relu', max_iter=250, alpha=0.0001, learning_rate_init = 0.005,\n",
    "#                      solver='sgd', verbose=10,  random_state=21,tol=0.000000001)"
   ]
  },
  {
   "cell_type": "code",
   "execution_count": 87,
   "metadata": {},
   "outputs": [
    {
     "name": "stdout",
     "output_type": "stream",
     "text": [
      "0.8198534617018264\n",
      "{'activation': 'relu', 'alpha': 0.05, 'hidden_layer_sizes': (100, 75, 50, 25), 'learning_rate': 'adaptive', 'solver': 'adam'}\n"
     ]
    }
   ],
   "source": [
    "# Here are the best score and best parameters that gave this best score    \n",
    "print(clf.best_score_) \n",
    "print(clf.best_params_)"
   ]
  },
  {
   "cell_type": "code",
   "execution_count": 88,
   "metadata": {},
   "outputs": [
    {
     "data": {
      "text/plain": [
       "0.8198003681155317"
      ]
     },
     "execution_count": 88,
     "metadata": {},
     "output_type": "execute_result"
    }
   ],
   "source": [
    "clf.score(X_train_scaled, y_train)"
   ]
  },
  {
   "cell_type": "code",
   "execution_count": 89,
   "metadata": {},
   "outputs": [],
   "source": [
    "# Converting validation set into the same appropriate format as train set\n",
    "X_valid_selected = X_valid.copy()\n",
    "X_valid_selected.drop(['Purpose', 'Term_Short Term', 'Home Ownership_Home Mortgage'], axis=1, inplace=True)\n"
   ]
  },
  {
   "cell_type": "code",
   "execution_count": 90,
   "metadata": {},
   "outputs": [
    {
     "name": "stderr",
     "output_type": "stream",
     "text": [
      "C:\\Users\\User\\Anaconda3\\lib\\site-packages\\pandas\\core\\series.py:853: RuntimeWarning: divide by zero encountered in log\n",
      "  result = getattr(ufunc, method)(*inputs, **kwargs)\n"
     ]
    }
   ],
   "source": [
    "for column in columns:\n",
    "    X_valid_selected[column] = np.log(X_valid_selected[column])\n",
    "# X_valid_selected['Annual Income'] = np.log(X_valid_selected['Annual Income'])\n",
    "X_valid_selected = X_valid_selected.replace([np.inf, -np.inf, -0], 0)"
   ]
  },
  {
   "cell_type": "code",
   "execution_count": 91,
   "metadata": {},
   "outputs": [],
   "source": [
    "X_valid_scaled = scale.transform(X_valid_selected)\n",
    "X_valid_scaled = pd.DataFrame(X_valid_scaled, index=X_valid_selected.index, columns=X_valid_selected.columns)"
   ]
  },
  {
   "cell_type": "code",
   "execution_count": 92,
   "metadata": {},
   "outputs": [],
   "source": [
    "# making predictions of valid set\n",
    "y_pred = clf.predict(X_valid_scaled)"
   ]
  },
  {
   "cell_type": "code",
   "execution_count": 93,
   "metadata": {},
   "outputs": [
    {
     "data": {
      "text/plain": [
       "0.8242248336400962"
      ]
     },
     "execution_count": 93,
     "metadata": {},
     "output_type": "execute_result"
    }
   ],
   "source": [
    "# revealing accuracy score, which is higher than in training process, which is very good!\n",
    "accuracy_score(y_valid, y_pred)"
   ]
  },
  {
   "cell_type": "code",
   "execution_count": 94,
   "metadata": {},
   "outputs": [],
   "source": [
    "# Now after we tested our models multiplicitly, we deploy it on production\n",
    "y_pred_test = clf.predict(X_test_scaled)"
   ]
  },
  {
   "cell_type": "code",
   "execution_count": 95,
   "metadata": {},
   "outputs": [
    {
     "data": {
      "text/plain": [
       "{0: 7566, 1: 453}"
      ]
     },
     "execution_count": 95,
     "metadata": {},
     "output_type": "execute_result"
    }
   ],
   "source": [
    "# Seeing the results of our prediction\n",
    "unique, counts = np.unique(y_pred_test, return_counts=True)\n",
    "dict(zip(unique, counts))"
   ]
  },
  {
   "cell_type": "code",
   "execution_count": null,
   "metadata": {},
   "outputs": [],
   "source": []
  },
  {
   "cell_type": "code",
   "execution_count": null,
   "metadata": {},
   "outputs": [],
   "source": [
    "# model = KNeighborsClassifier()\n",
    "# params = {'n_neighbors':[5,6,7,8,9,10],\n",
    "#           'leaf_size':[1,2,3,5],\n",
    "#           'weights':['uniform', 'distance'],\n",
    "#           'algorithm':['auto', 'ball_tree','kd_tree','brute'],}\n",
    "# model1 = GridSearchCV(model, param_grid=params, cv=3, n_jobs=4)\n",
    "# model1.fit(X_train_scaled,y_train)\n",
    "# # k_range = list(range(1, 31))\n",
    "# # weight_options = ['uniform', 'distance']\n",
    "# # param_grid = dict(n_neighbors=k_range, weights=weight_options)\n",
    "# # print(param_grid)\n",
    "# # knn = KNeighborsClassifier(n_neighbors=3, n_jobs = -1)\n",
    "# # grid = GridSearchCV(knn, param_grid, cv=10, scoring='accuracy')\n",
    "# # grid.fit(X_train_scaled, y_train)\n",
    "# print(grid.best_score_)\n",
    "# print(grid.best_params_)"
   ]
  },
  {
   "cell_type": "code",
   "execution_count": null,
   "metadata": {},
   "outputs": [],
   "source": [
    "# def df_without_outliers(X_dataframe, y_dataframe, column, threshold):\n",
    "#                  # this number is hyper parameter , as much as you reduce it, as much as you remove more points\n",
    "#                  # you can just try different values the deafult value is (1.5) it works good for most cases\n",
    "#                  # but be careful, you don't want to try a small number because you may loss some important information from the data .\n",
    "#                  # that's why I was surprised when 0.1 gived me the best result\n",
    "            \n",
    "#     col_out = X_dataframe[column]\n",
    "#     q25, q75 = np.percentile(col_out, 25), np.percentile(col_out, 75) # Q25, Q75\n",
    "# #     print('Quartile 25: {} , Quartile 75: {}'.format(q25, q75))\n",
    "\n",
    "#     iqr = q75 - q25\n",
    "# #     print('iqr: {}'.format(iqr))\n",
    "\n",
    "#     cut = iqr * threshold\n",
    "#     lower, upper = q25 - cut, q75 + cut\n",
    "# #     print('Cut Off: {}'.format(cut))\n",
    "# #     print('Lower: {}'.format(lower))\n",
    "# #     print('Upper: {}'.format(upper))\n",
    "\n",
    "#     outliers = [x for x in col_out if x < lower or x > upper]\n",
    "# #     print('Nubers of Outliers: {}'.format(len(outliers)))\n",
    "# #     print('outliers:{}'.format(outliers))\n",
    "\n",
    "#     data_outliers = pd.concat([X_dataframe, y_dataframe], axis=1)\n",
    "#     print('\\nlen X_train before dropping the outliers', len(data_outliers))\n",
    "#     data_outliers = data_outliers.drop(data_outliers[(data_outliers[column] > upper) | (data_outliers[column] < lower)].index)\n",
    "\n",
    "#     print('len X_train before dropping the outliers', len(data_outliers))\n",
    "    \n",
    "#     return data_outliers\n",
    "    \n",
    "# columns_for_detect = ['Current Loan Amount', 'Annual Income', 'Monthly Debt', 'Current Credit Balance', 'Maximum Open Credit']\n",
    "# train_new = df_without_outliers(X_train_scaled, y_train, 'Current Loan Amount', 5)\n",
    "# for column in columns_for_detect[1:]:\n",
    "#     train_new = df_without_outliers(train_new.drop('Loan Status', axis=1), train_new['Loan Status'], column, 1.5)\n",
    "# train_new.shape\n",
    "# X_train_new = train_new.drop('Loan Status', axis=1)\n",
    "# y_train_new = train_new['Loan Status']\n",
    "# train_eval_train(models, X_train_new, y_train_new)"
   ]
  },
  {
   "cell_type": "code",
   "execution_count": null,
   "metadata": {},
   "outputs": [],
   "source": [
    "# Preparing data for Categorical Boosting Classifier model\n",
    "dffinal.drop(['Number of Credit Problems', 'Tax Liens', 'Bankruptcies'], axis=1, inplace=True)"
   ]
  },
  {
   "cell_type": "code",
   "execution_count": null,
   "metadata": {},
   "outputs": [],
   "source": [
    "# Separating features and target\n",
    "catX = dffinal\n",
    "caty = target"
   ]
  },
  {
   "cell_type": "code",
   "execution_count": null,
   "metadata": {},
   "outputs": [],
   "source": [
    "# splitting into training and validation sets\n",
    "from sklearn.model_selection import train_test_split\n",
    "X_cattrain, X_catvalid, y_cattrain, y_catvalid = train_test_split(catX, caty, test_size = 0.2, random_state = 100)"
   ]
  },
  {
   "cell_type": "code",
   "execution_count": null,
   "metadata": {},
   "outputs": [],
   "source": [
    "# defining indexes of categorical features\n",
    "categorical_features_indices = np.where(catX.dtypes == np.object )[0]\n",
    "categorical_features_indices"
   ]
  },
  {
   "cell_type": "code",
   "execution_count": null,
   "metadata": {},
   "outputs": [],
   "source": [
    "# Creating and training the model\n",
    "from catboost import CatBoostClassifier\n",
    "\n",
    "clf = CatBoostClassifier(random_seed=42, learning_rate=0.05, iterations=100, loss_function='Logloss', eval_metric='Accuracy')\n",
    "\n",
    "clf.fit(X_cattrain, y_cattrain, cat_features=categorical_features_indices, verbose=400, eval_set=(X_catvalid, y_catvalid), plot=True)\n",
    "preds = clf.predict_proba(X_catvalid)"
   ]
  },
  {
   "cell_type": "code",
   "execution_count": null,
   "metadata": {},
   "outputs": [],
   "source": [
    "# Making some predictions and measuring accuracy score\n",
    "y_pred = clf.predict(X_catvalid)\n",
    "X_pred = clf.predict(X_cattrain)\n",
    "\n",
    "from sklearn.metrics import accuracy_score \n",
    "\n",
    "\n",
    "print (\"Accuracy TEST: \", accuracy_score(y_catvalid,y_pred)*100)\n",
    "print (\"Accuracy Train: \", accuracy_score(y_train,X_pred)*100)"
   ]
  },
  {
   "cell_type": "code",
   "execution_count": null,
   "metadata": {},
   "outputs": [],
   "source": [
    "y_pred[:5]"
   ]
  },
  {
   "cell_type": "code",
   "execution_count": null,
   "metadata": {},
   "outputs": [],
   "source": [
    "# Hyperparameters tuning\n",
    "fast_model = CatBoostClassifier(\n",
    "    random_seed=63,\n",
    "    iterations=150,\n",
    "    learning_rate=0.01,\n",
    "    boosting_type='Plain',\n",
    "    bootstrap_type='Bernoulli',\n",
    "    subsample=0.5,\n",
    "    one_hot_max_size=20,\n",
    "    rsm=0.5,\n",
    "    leaf_estimation_iterations=5,\n",
    "    max_ctr_complexity=1,loss_function='Logloss', eval_metric='Accuracy')\n",
    "\n",
    "fast_model.fit(\n",
    "    X_train, y_train,\n",
    "    cat_features=categorical_features_indices,\n",
    "    eval_set=(X_test, y_test),\n",
    "    verbose=False,\n",
    "    plot=True\n",
    ")\n",
    "y_pred = fast_model.predict(X_test)\n",
    "X_pred = fast_model.predict(X_train)\n",
    "\n",
    "print (\"Accuracy TEST: \", accuracy_score(y_test,y_pred)*100)\n",
    "print (\"Accuracy Train: \", accuracy_score(y_train,X_pred)*100)"
   ]
  },
  {
   "cell_type": "code",
   "execution_count": null,
   "metadata": {},
   "outputs": [],
   "source": [
    "# Model tuning\n",
    "tunned_model = CatBoostClassifier(\n",
    "    random_seed=63,\n",
    "    iterations=1000,\n",
    "    learning_rate=0.03,\n",
    "    l2_leaf_reg=3,\n",
    "    bagging_temperature=1,\n",
    "    random_strength=1,\n",
    "    one_hot_max_size=2,\n",
    "    leaf_estimation_method='Newton', loss_function='Logloss', eval_metric='Accuracy'\n",
    "    \n",
    ")\n",
    "tunned_model.fit(\n",
    "    X_train, y_train,\n",
    "    cat_features=categorical_features_indices,\n",
    "    verbose=False,\n",
    "    eval_set=(X_train, y_train),\n",
    "    plot=True\n",
    ")\n",
    "y_pred = tunned_model.predict(X_test)\n",
    "X_pred = tunned_model.predict(X_train)\n",
    "\n",
    "print (\"Accuracy TEST: \", accuracy_score(y_test,y_pred)*100)\n",
    "print (\"Accuracy Train: \", accuracy_score(y_train,X_pred)*100)"
   ]
  },
  {
   "cell_type": "code",
   "execution_count": null,
   "metadata": {},
   "outputs": [],
   "source": [
    "# searching for best model\n",
    "best_model = CatBoostClassifier(\n",
    "    random_seed=63,\n",
    "    iterations=int(tunned_model.tree_count_ * 1.2),loss_function='Logloss', eval_metric='Accuracy'\n",
    ")\n",
    "best_model.fit(\n",
    "    X, y,\n",
    "    cat_features=categorical_features_indices,\n",
    "    verbose=100, plot=True, eval_set=(X_train, y_train)\n",
    ")\n",
    "y_pred = best_model.predict(X_test)\n",
    "X_pred = best_model.predict(X_train)\n",
    "\n",
    "print (\"Accuracy TEST: \", accuracy_score(y_test,y_pred)*100)\n",
    "print (\"Accuracy Train: \", accuracy_score(y_train,X_pred)*100)"
   ]
  },
  {
   "cell_type": "code",
   "execution_count": null,
   "metadata": {},
   "outputs": [],
   "source": [
    "# Creating submission dataframe to submit predicted results\n",
    "submission=pd.DataFrame()\n",
    "submission['Customer ID']=test['Customer ID']"
   ]
  },
  {
   "cell_type": "code",
   "execution_count": null,
   "metadata": {},
   "outputs": [],
   "source": [
    "submission"
   ]
  },
  {
   "cell_type": "code",
   "execution_count": null,
   "metadata": {},
   "outputs": [],
   "source": [
    "test_0=test.drop(['Loan ID', 'Customer ID', 'Bankruptcies', 'Tax Liens'], axis=1)"
   ]
  },
  {
   "cell_type": "code",
   "execution_count": null,
   "metadata": {},
   "outputs": [],
   "source": [
    "test_0"
   ]
  },
  {
   "cell_type": "code",
   "execution_count": null,
   "metadata": {},
   "outputs": [],
   "source": [
    "train_0.shape"
   ]
  },
  {
   "cell_type": "code",
   "execution_count": null,
   "metadata": {},
   "outputs": [],
   "source": [
    "test_0.shape"
   ]
  },
  {
   "cell_type": "code",
   "execution_count": null,
   "metadata": {},
   "outputs": [],
   "source": [
    "y_f_pred=best_model.predict(test_0)"
   ]
  },
  {
   "cell_type": "code",
   "execution_count": null,
   "metadata": {},
   "outputs": [],
   "source": [
    "submission['Loan Status']=y_f_pred"
   ]
  },
  {
   "cell_type": "code",
   "execution_count": null,
   "metadata": {},
   "outputs": [],
   "source": [
    "submission"
   ]
  },
  {
   "cell_type": "code",
   "execution_count": null,
   "metadata": {},
   "outputs": [],
   "source": [
    "submission['Loan Status'].value_counts()"
   ]
  }
 ],
 "metadata": {
  "kernelspec": {
   "display_name": "Python 3",
   "language": "python",
   "name": "python3"
  },
  "language_info": {
   "codemirror_mode": {
    "name": "ipython",
    "version": 3
   },
   "file_extension": ".py",
   "mimetype": "text/x-python",
   "name": "python",
   "nbconvert_exporter": "python",
   "pygments_lexer": "ipython3",
   "version": "3.7.4"
  }
 },
 "nbformat": 4,
 "nbformat_minor": 2
}
